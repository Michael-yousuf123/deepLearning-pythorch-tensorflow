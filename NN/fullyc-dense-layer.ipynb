{
 "cells": [
  {
   "cell_type": "markdown",
   "id": "ef1ce4cd-1e7e-45a7-8b8e-741d3d32f65a",
   "metadata": {},
   "source": [
    "---\n",
    "### **Fully Connected Dense Layer**\n",
    "---\n",
    "- **It is a dense or fully-connected layer**\n",
    "- **Weights are initialized randomly in usual cases unless you will use the pretrained model**\n",
    "- **Weights are initialized by** ***(inputs, neurons)*** **instead of** ***(neurons, inputs)*** **to prevent the transposition of weights**\n",
    "- **Biases are usually initialized with zero, why? like many samples values containing zero its preferable to put biases as 0, to make those neurons fires**\n",
    "- **Based on some senarios like when the** ***(weight.inputs + biases)*** **not meet the activation function threshold gives the output to zero from neuron**"
   ]
  },
  {
   "cell_type": "code",
   "execution_count": 1,
   "id": "7c6205fa-5092-4c11-a568-8751439a2607",
   "metadata": {},
   "outputs": [],
   "source": [
    "class DenseLayer():\n",
    "    def __init__(self, inputs, nneurons):\n",
    "        pass\n",
    "    def forward(self):\n",
    "        pass"
   ]
  },
  {
   "cell_type": "code",
   "execution_count": null,
   "id": "47210f45-b136-4596-b083-97394e668092",
   "metadata": {},
   "outputs": [],
   "source": [
    "import numpy as np"
   ]
  },
  {
   "cell_type": "code",
   "execution_count": null,
   "id": "1ff6d0c9-763d-4198-8b8c-a506975acfd6",
   "metadata": {},
   "outputs": [],
   "source": [
    "class DenseLayer():\n",
    "    def __init___(self, inputs, nneurons):\n",
    "        self.weights = 0.01*np.random.rndn(inputs, nneurons)\n",
    "        self.biases = np.zeros(1, nneurons)\n",
    "    "
   ]
  }
 ],
 "metadata": {
  "kernelspec": {
   "display_name": "Python 3 (ipykernel)",
   "language": "python",
   "name": "python3"
  },
  "language_info": {
   "codemirror_mode": {
    "name": "ipython",
    "version": 3
   },
   "file_extension": ".py",
   "mimetype": "text/x-python",
   "name": "python",
   "nbconvert_exporter": "python",
   "pygments_lexer": "ipython3",
   "version": "3.9.12"
  }
 },
 "nbformat": 4,
 "nbformat_minor": 5
}
