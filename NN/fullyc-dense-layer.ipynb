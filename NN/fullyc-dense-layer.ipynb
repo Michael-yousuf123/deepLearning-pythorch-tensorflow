{
 "cells": [
  {
   "cell_type": "markdown",
   "id": "ef1ce4cd-1e7e-45a7-8b8e-741d3d32f65a",
   "metadata": {},
   "source": [
    "---\n",
    "### **Fully Connected Dense Layer**\n",
    "---\n",
    "- **It is a dense or fully-connected layer**\n",
    "- **Weights are initialized randomly in usual cases unless you will use the pretrained model**\n",
    "- **Weights are initialized by** ***(inputs, neurons)*** **instead of** ***(neurons, inputs)*** **to prevent the transposition of weights**\n",
    "- **Biases are usually initialized with zero, why? like many samples values containing zero its preferable to put biases as 0, to make those neurons fires**\n",
    "- **Based on some senarios like when the** ***(weight.inputs + biases)*** **not meet the activation function threshold gives the output to zero from neuron**\n",
    "- **This will result in the inputs multiplied by this neuron output will be zero resulting in** ***DEAD NEURON*** **that's why we need BACKPROPAGATION and modification of biases**"
   ]
  },
  {
   "cell_type": "code",
   "execution_count": 1,
   "id": "7c6205fa-5092-4c11-a568-8751439a2607",
   "metadata": {},
   "outputs": [],
   "source": [
    "class DenseLayer():\n",
    "    def __init__(self, inputs, nneurons):\n",
    "        pass\n",
    "    def forward(self):\n",
    "        pass"
   ]
  },
  {
   "cell_type": "code",
   "execution_count": 2,
   "id": "47210f45-b136-4596-b083-97394e668092",
   "metadata": {},
   "outputs": [],
   "source": [
    "import numpy as np"
   ]
  },
  {
   "cell_type": "markdown",
   "id": "5537e0f4-b974-41a3-b994-efe4cb9fe228",
   "metadata": {},
   "source": [
    "---\n",
    "#### ***Class Dense Layer***\n",
    "---\n",
    "- **Initialize weights using** ***(np.random.randn)*** **and multiply** **with** ***(0.01)*** **and** ***(np.zeros)*** **for biases**\n",
    "- **np.random.randn() produces a Gaussian distribution with a mean of 0 and a variance of 1, which means that it’ll generate random numbers, positive and negative, centered at 0 and with the mean value close to 0**\n",
    "- **neural networks work best with values between -1 and +1**\n",
    "- **Multiply this Gaussian distribution for the weights by 0.01 to generate numbers that are a couple of magnitudes smaller.**\n",
    "- **Otherwise, the model will take more time to fit the data during the training process as starting values will be disproportionately large compared to the updates being made during training.**\n",
    "- **np.zeros function takes a desired array shape as an argument and returns an array of that shape filled with zeros.**"
   ]
  },
  {
   "cell_type": "code",
   "execution_count": 3,
   "id": "1a94501a-7714-43e8-b366-a604cdbfe5af",
   "metadata": {},
   "outputs": [
    {
     "name": "stdout",
     "output_type": "stream",
     "text": [
      "[[-1.31212147  0.68334118  0.272628   -0.38867187  0.25888587]\n",
      " [ 1.00941942  0.69817204  2.19594382 -1.77923207 -0.95523158]]\n"
     ]
    }
   ],
   "source": [
    "x = np.random.randn(2, 5)\n",
    "print(x)"
   ]
  },
  {
   "cell_type": "code",
   "execution_count": 4,
   "id": "99a9664d-8113-43fc-9d1e-3c38490fda22",
   "metadata": {},
   "outputs": [
    {
     "name": "stdout",
     "output_type": "stream",
     "text": [
      "[[0. 0. 0. 0. 0.]\n",
      " [0. 0. 0. 0. 0.]]\n"
     ]
    }
   ],
   "source": [
    "y = np.zeros((2, 5))\n",
    "print(y)"
   ]
  },
  {
   "cell_type": "code",
   "execution_count": 5,
   "id": "1ff6d0c9-763d-4198-8b8c-a506975acfd6",
   "metadata": {},
   "outputs": [],
   "source": [
    "class DenseLayer:\n",
    "    def __init__(self, n_inputs, n_neurons):\n",
    "        self.weights = 0.01*np.random.randn(n_inputs, n_neurons)\n",
    "        self.biases = np.zeros((1, n_neurons))\n",
    "    def forward(self, inputs):\n",
    "        self.output = np.dot(inputs, self.weights) + self.biases\n",
    "    "
   ]
  },
  {
   "cell_type": "code",
   "execution_count": 6,
   "id": "02cd3eb8-5d85-4d2d-8f20-1e15e8657a7c",
   "metadata": {},
   "outputs": [],
   "source": [
    "import nnfs\n",
    "from nnfs.datasets import spiral_data\n",
    "nnfs.init()"
   ]
  },
  {
   "cell_type": "code",
   "execution_count": 7,
   "id": "4eb07181-2c07-4876-be9e-71391832be1a",
   "metadata": {},
   "outputs": [
    {
     "name": "stdout",
     "output_type": "stream",
     "text": [
      "(300, 2)\n"
     ]
    }
   ],
   "source": [
    "X, y = spiral_data(samples=100, classes=3)\n",
    "print(X.shape)"
   ]
  },
  {
   "cell_type": "code",
   "execution_count": 8,
   "id": "e3d99f59-dcd9-49c9-a01d-a7d319f59b38",
   "metadata": {},
   "outputs": [
    {
     "name": "stdout",
     "output_type": "stream",
     "text": [
      "[[ 0.0000000e+00  0.0000000e+00  0.0000000e+00]\n",
      " [-1.0475188e-04  1.1395361e-04 -4.7983500e-05]\n",
      " [-2.7414842e-04  3.1729150e-04 -8.6921798e-05]\n",
      " [-4.2188365e-04  5.2666257e-04 -5.5912682e-05]\n",
      " [-5.7707680e-04  7.1401405e-04 -8.9430439e-05]]\n"
     ]
    }
   ],
   "source": [
    "dense1 = DenseLayer(2, 3)\n",
    "dense1.forward(X)\n",
    "print(dense1.output[:5])"
   ]
  },
  {
   "cell_type": "code",
   "execution_count": null,
   "id": "771d9a84-ad09-48af-a912-f76983017547",
   "metadata": {},
   "outputs": [],
   "source": []
  }
 ],
 "metadata": {
  "kernelspec": {
   "display_name": "Python 3 (ipykernel)",
   "language": "python",
   "name": "python3"
  },
  "language_info": {
   "codemirror_mode": {
    "name": "ipython",
    "version": 3
   },
   "file_extension": ".py",
   "mimetype": "text/x-python",
   "name": "python",
   "nbconvert_exporter": "python",
   "pygments_lexer": "ipython3",
   "version": "3.9.12"
  }
 },
 "nbformat": 4,
 "nbformat_minor": 5
}
