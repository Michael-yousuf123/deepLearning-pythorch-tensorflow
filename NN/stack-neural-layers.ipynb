{
 "cells": [
  {
   "attachments": {
    "271e7ae0-3d1f-4578-bc6c-eb3d10006f87.png": {
     "image/png": "[encoded data removed]"
    }
   },
   "cell_type": "markdown",
   "id": "98a7c433-f15a-4fdd-8671-8b2c39bfc5a9",
   "metadata": {},
   "source": [
    "---\n",
    "### **Stacking Layers**\n",
    "---\n",
    "![3layenn.png](attachment:271e7ae0-3d1f-4578-bc6c-eb3d10006f87.png)\n",
    "---"
   ]
  },
  {
   "cell_type": "markdown",
   "id": "9106077c-dcd4-4f5e-b5dd-2c7b9bbddb22",
   "metadata": {},
   "source": [
    "$WI = [w11, w12, w13, w14\\\\\n",
    "      w21, w22, w23, w24\\\\\n",
    "      w31, w32, w33, w34]$\n",
    "$WL = [w11, 12, 13 \\\\\n",
    "w21, w22, w23\\\\\n",
    "w31, w32, w33]$\n",
    "BI = [1, 2, 3]\n",
    "BL = [1, 2, 3]"
   ]
  },
  {
   "cell_type": "code",
   "execution_count": 4,
   "id": "a3de49e3-ab0b-45fb-ae0b-f7b8f246f7e1",
   "metadata": {},
   "outputs": [],
   "source": [
    "import numpy as np"
   ]
  },
  {
   "cell_type": "code",
   "execution_count": 5,
   "id": "b374a844-09c6-452f-9d1b-5292745b9364",
   "metadata": {},
   "outputs": [],
   "source": [
    "inputs = [[1, 2, 3, 2.5],\n",
    "[2., 5., -1., 2],\n",
    "[-1.5, 2.7, 3.3, -0.8]]\n",
    "weights = [[0.2, 0.8, -0.5, 1],\n",
    "           [0.5, -0.91, 0.26, -0.5],\n",
    "            [-0.26, -0.27, 0.17, 0.87]]\n",
    "biases = [2, 3, 0.5]"
   ]
  },
  {
   "cell_type": "code",
   "execution_count": 6,
   "id": "14585267-480d-473c-9f00-2f6997da8db9",
   "metadata": {},
   "outputs": [],
   "source": [
    "inputs = np.array(inputs)\n",
    "weights = np.array(weights)"
   ]
  },
  {
   "cell_type": "code",
   "execution_count": 7,
   "id": "99bfea8c-e349-44fc-90e0-f6c37dc24640",
   "metadata": {},
   "outputs": [
    {
     "name": "stdout",
     "output_type": "stream",
     "text": [
      "[[ 4.8    1.21   2.385]\n",
      " [ 8.9   -1.81   0.2  ]\n",
      " [ 1.41   1.051  0.026]]\n"
     ]
    }
   ],
   "source": [
    "layer1 = np.dot(inputs, weights.T) + biases\n",
    "print(layer1)"
   ]
  },
  {
   "cell_type": "code",
   "execution_count": 10,
   "id": "5427c717-0d98-4e42-9ea8-db86c6a218fd",
   "metadata": {},
   "outputs": [
    {
     "name": "stdout",
     "output_type": "stream",
     "text": [
      "[[ 0.2945   3.63155 -1.85925]\n",
      " [ 1.026    7.0841  -5.5403 ]\n",
      " [ 1.5432   1.72023 -1.04045]]\n"
     ]
    }
   ],
   "source": [
    "# for second output layer\n",
    "weights1 = [[0.1, 0.4, -0.7],\n",
    "           [0.4, -0.81, 0.29],\n",
    "            [-0.76, -0.37, 0.77]]\n",
    "biases1 = [1, 2, 0.4]\n",
    "weights1 = np.array(weights1)\n",
    "\n",
    "layer2 = np.dot(layer1, weights1.T) +biases1\n",
    "print(layer2)"
   ]
  },
  {
   "cell_type": "code",
   "execution_count": null,
   "id": "4827825f-07b4-4b40-ba88-01403acb5df3",
   "metadata": {},
   "outputs": [],
   "source": []
  }
 ],
 "metadata": {
  "kernelspec": {
   "display_name": "Python 3 (ipykernel)",
   "language": "python",
   "name": "python3"
  },
  "language_info": {
   "codemirror_mode": {
    "name": "ipython",
    "version": 3
   },
   "file_extension": ".py",
   "mimetype": "text/x-python",
   "name": "python",
   "nbconvert_exporter": "python",
   "pygments_lexer": "ipython3",
   "version": "3.9.12"
  }
 },
 "nbformat": 4,
 "nbformat_minor": 5
}
