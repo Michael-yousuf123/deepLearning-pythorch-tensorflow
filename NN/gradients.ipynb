{
 "cells": [
  {
   "cell_type": "markdown",
   "id": "bb4ed708-bb8c-4a12-b8f8-ffc9b6f18e87",
   "metadata": {},
   "source": [
    "---\n",
    "### **Back Propagation**\n",
    "---"
   ]
  },
  {
   "cell_type": "code",
   "execution_count": 1,
   "id": "fe34b36a-326b-458c-8bf1-a68e7bfe8d44",
   "metadata": {},
   "outputs": [],
   "source": [
    "class DenseLayer:\n",
    "    def __init__(self, inputs, neurons):\n",
    "        self.weight = 0.01*np.random.randn(inputs, neurons)\n",
    "        self.bias = np.zeros((1, neurons))\n",
    "    def forward(self, inputs):\n",
    "        self.inputs = inputs\n",
    "        self.output = np.dot(inputs, self.weight) + self.bias\n",
    "    def backward(self, dvalues):\n",
    "        self.dweight = np.dot(self.inputs.T, dvalues)\n",
    "        self.dbiases = np.sum(dvalues,axis= 0, keepdims = True)\n",
    "        dinputs = np.dot(dvalues, self.weight.T)"
   ]
  },
  {
   "cell_type": "code",
   "execution_count": null,
   "id": "1353cede-577c-4244-be4f-e6069cc1c078",
   "metadata": {},
   "outputs": [],
   "source": [
    "class ReLU:\n",
    "    def forward(self, inputs):\n",
    "        output = np.maximum(0, inputs)"
   ]
  },
  {
   "cell_type": "markdown",
   "id": "19747194-630e-44d1-9e2f-086c6058cb87",
   "metadata": {},
   "source": [
    "---\n",
    "$$\\partial{w_o} =  \\frac{\\partial(ReLU)}{\\partial_{sum}}* \\frac{\\partial(sum)}{\\partial_{mul}}* \\frac{\\partial(mul)}{\\partial_{x_o*w_o}}* \\frac{\\partial(x_o*w_o)}{\\partial_{x_o}}$$\n",
    "--"
   ]
  },
  {
   "cell_type": "markdown",
   "id": "548fa94c-782d-46db-a886-9de141a28c6f",
   "metadata": {},
   "source": [
    "---\n",
    "$\\frac{\\partial(ReLU)}{\\partial_{Input}}=1$ where input = $z$\n",
    "--\n",
    "$z = w_o*x_o + w_1*x_1 + w_2*x_2 + b$\n",
    "--\n",
    "$\\frac{\\partial(ReLU)}{\\partial_{w_o*x}}$ = $\\frac{\\partial(ReLU)}{\\partial_{z}}$ *$\\frac{\\partial(sum)}{\\partial_{x*w_o}}$ = $1*1=1$\n",
    "--\n",
    "$\\frac{\\partial(ReLU)}{\\partial_{w_1*x}}$= $\\frac{\\partial(ReLU)}{\\partial_{z}}$ *$\\frac{\\partial(sum)}{\\partial_{x*w_1}}$ = $1*1=1$\n",
    "--\n",
    "$\\frac{\\partial(ReLU)}{\\partial_{w_2*x}}$= $\\frac{\\partial(ReLU)}{\\partial_{z}}$ *$\\frac{\\partial(sum)}{\\partial_{x*w_2}}$ = $1*1=1$\n",
    "--\n",
    "$\\frac{\\partial(ReLU)}{\\partial_{b}}$=$\\frac{\\partial(ReLU)}{\\partial_{z}}$ *$\\frac{\\partial(sum)}{\\partial_{b}}$ = $1*1=1$\n",
    "---"
   ]
  },
  {
   "cell_type": "markdown",
   "id": "c250e6c6-b3cf-43ab-ae6b-b9e36258419f",
   "metadata": {},
   "source": [
    "---\n",
    "$\\frac{\\partial(mul)}{\\partial_{x_o}}$ = $w[o]$\n",
    "---\n",
    "$\\frac{\\partial(ReLU)}{\\partial_{x_o}}$ = $\\frac{\\partial(ReLU)}{\\partial_{x*w_o}}$*$\\frac{\\partial(mul)}{\\partial_{x_o}}.......$\n",
    "---"
   ]
  },
  {
   "cell_type": "code",
   "execution_count": null,
   "id": "9726c9f7-6a0c-4f8f-977c-f7b37ab8cd11",
   "metadata": {},
   "outputs": [],
   "source": []
  }
 ],
 "metadata": {
  "kernelspec": {
   "display_name": "Python 3 (ipykernel)",
   "language": "python",
   "name": "python3"
  },
  "language_info": {
   "codemirror_mode": {
    "name": "ipython",
    "version": 3
   },
   "file_extension": ".py",
   "mimetype": "text/x-python",
   "name": "python",
   "nbconvert_exporter": "python",
   "pygments_lexer": "ipython3",
   "version": "3.9.12"
  }
 },
 "nbformat": 4,
 "nbformat_minor": 5
}
