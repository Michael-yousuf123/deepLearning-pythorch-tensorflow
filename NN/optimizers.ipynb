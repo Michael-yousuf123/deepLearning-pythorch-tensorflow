{
 "cells": [
  {
   "cell_type": "markdown",
   "metadata": {},
   "source": [
    "---\n",
    "#### **Optimizers**\n",
    "---\n",
    "- SGD-fits a single sample at a time.\n",
    "- MBGD-is used to fit slices of a dataset, which we’d call batches in our context.\n",
    "- BGD-is an optimizer used to fit a whole dataset at once.\n",
    "---"
   ]
  },
  {
   "cell_type": "code",
   "execution_count": null,
   "metadata": {},
   "outputs": [],
   "source": []
  },
  {
   "cell_type": "markdown",
   "metadata": {},
   "source": []
  }
 ],
 "metadata": {
  "language_info": {
   "name": "python"
  },
  "orig_nbformat": 4
 },
 "nbformat": 4,
 "nbformat_minor": 2
}
