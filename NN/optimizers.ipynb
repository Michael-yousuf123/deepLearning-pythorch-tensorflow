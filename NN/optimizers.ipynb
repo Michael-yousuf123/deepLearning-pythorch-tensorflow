{
 "cells": [
  {
   "cell_type": "markdown",
   "metadata": {},
   "source": [
    "---\n",
    "#### **Optimizers**\n",
    "---\n",
    "- SGD-fits a single sample at a time.\n",
    "- MBGD-is used to fit slices of a dataset, which we’d call batches in our context.\n",
    "- BGD-is an optimizer used to fit a whole dataset at once.\n",
    "---"
   ]
  },
  {
   "cell_type": "code",
   "execution_count": null,
   "metadata": {},
   "outputs": [],
   "source": [
    "class SGD:\n",
    "    \"\"\"\n",
    "    \"\"\"\n",
    "    def __init__(self, learning_rate = 1):\n",
    "\n",
    "        self.learning_rate = learning_rate\n",
    "    def update_params(self, layer):\n",
    "        layer.weights += -self.learning_rate*layer.weights\n",
    "        layer.biases += -self.learning_rate*layer.biases\n",
    "        "
   ]
  },
  {
   "cell_type": "markdown",
   "metadata": {},
   "source": [
    "$\\begin{array}{l}\\begin{bmatrix} \\frac{\\partial f_{1}}{\\partial x_{1}} & \\frac{\\partial f_{1}}{\\partial x_{2}} & \\cdots &\\frac{\\partial f_{1}}{\\partial x_{m}} \\\\ \\frac{\\partial f_{2}}{\\partial x_{1}}& \\frac{\\partial f_{2}}{\\partial x_{2}} & \\cdots & \\frac{\\partial f_{2}}{\\partial x_{m}}\\\\ \\frac{\\partial f_{3}}{\\partial x_{1}}& \\frac{\\partial f_{3}}{\\partial x_{2}} &\\cdots & \\frac{\\partial f_{3}}{\\partial x_{m}} \\end{bmatrix}\\end{array}$"
   ]
  },
  {
   "cell_type": "markdown",
   "metadata": {},
   "source": []
  },
  {
   "cell_type": "code",
   "execution_count": 1,
   "metadata": {},
   "outputs": [],
   "source": [
    "import numpy as np\n",
    "softmax_output = [0.7, 0.1, 0.2]"
   ]
  },
  {
   "cell_type": "code",
   "execution_count": 3,
   "metadata": {},
   "outputs": [
    {
     "name": "stdout",
     "output_type": "stream",
     "text": [
      "[[0.7]\n",
      " [0.1]\n",
      " [0.2]]\n"
     ]
    }
   ],
   "source": [
    "softmax_output = np.array(softmax_output).reshape(-1,1)\n",
    "print(softmax_output)"
   ]
  },
  {
   "cell_type": "code",
   "execution_count": 9,
   "metadata": {},
   "outputs": [
    {
     "name": "stdout",
     "output_type": "stream",
     "text": [
      "3\n"
     ]
    }
   ],
   "source": [
    "print(softmax_output.shape[0])"
   ]
  },
  {
   "cell_type": "code",
   "execution_count": 7,
   "metadata": {},
   "outputs": [
    {
     "name": "stdout",
     "output_type": "stream",
     "text": [
      "[[1. 0. 0.]\n",
      " [0. 1. 0.]\n",
      " [0. 0. 1.]]\n"
     ]
    }
   ],
   "source": [
    "print(np.eye(softmax_output.shape[0]))"
   ]
  },
  {
   "cell_type": "code",
   "execution_count": null,
   "metadata": {},
   "outputs": [],
   "source": []
  }
 ],
 "metadata": {
  "kernelspec": {
   "display_name": "Python 3.9.0 ('tutorial': venv)",
   "language": "python",
   "name": "python3"
  },
  "language_info": {
   "codemirror_mode": {
    "name": "ipython",
    "version": 3
   },
   "file_extension": ".py",
   "mimetype": "text/x-python",
   "name": "python",
   "nbconvert_exporter": "python",
   "pygments_lexer": "ipython3",
   "version": "3.9.0"
  },
  "orig_nbformat": 4,
  "vscode": {
   "interpreter": {
    "hash": "caf7278de32ae50a5dd0684131d9cf7ea449d2611b70011b0da5b9f19e8738ad"
   }
  }
 },
 "nbformat": 4,
 "nbformat_minor": 2
}
