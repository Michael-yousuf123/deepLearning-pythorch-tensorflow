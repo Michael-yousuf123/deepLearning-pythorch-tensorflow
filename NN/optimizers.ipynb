{
 "cells": [
  {
   "cell_type": "markdown",
   "metadata": {},
   "source": [
    "---\n",
    "#### **Optimizers**\n",
    "---\n",
    "- SGD-fits a single sample at a time.\n",
    "- MBGD-is used to fit slices of a dataset, which we’d call batches in our context.\n",
    "- BGD-is an optimizer used to fit a whole dataset at once.\n",
    "---"
   ]
  },
  {
   "cell_type": "code",
   "execution_count": null,
   "metadata": {},
   "outputs": [],
   "source": [
    "class SGD:\n",
    "    \"\"\"\n",
    "    \"\"\"\n",
    "    def __init__(self, learning_rate = 1):\n",
    "\n",
    "        self.learning_rate = learning_rate\n",
    "    def update_params(self, layer):\n",
    "        layer.weights += -self.learning_rate*layer.weights\n",
    "        layer.biases += -self.learning_rate*layer.biases\n",
    "        "
   ]
  },
  {
   "cell_type": "markdown",
   "metadata": {},
   "source": []
  }
 ],
 "metadata": {
  "language_info": {
   "name": "python"
  },
  "orig_nbformat": 4
 },
 "nbformat": 4,
 "nbformat_minor": 2
}
