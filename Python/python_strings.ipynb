{
 "cells": [
  {
   "cell_type": "markdown",
   "id": "d0a86c69",
   "metadata": {},
   "source": [
    "---\n",
    "Python Data types and Strings\n",
    "---\n",
    "\n",
    "**Python Data types**\n",
    "---\n",
    "- Python has the following in-buit data types\n",
    "    - Text Type:\tstr\n",
    "    - Numeric Types:\tint, float, complex\n",
    "    - Sequence Types:\tlist, tuple, range\n",
    "    - Mapping Type:\tdict\n",
    "    - Set Types:\tset, frozenset\n",
    "    - Boolean Type:\tbool\n",
    "    - None Type:\tNoneType\n",
    "---"
   ]
  },
  {
   "cell_type": "code",
   "execution_count": 16,
   "id": "4d757ba9",
   "metadata": {},
   "outputs": [],
   "source": [
    "a = \"michael\" # string type\n",
    "b = 3 # integer type\n",
    "c= 3.1 # float type\n",
    "d = 4j # complex\n",
    "e = [\"michael\", \"banana\", \"orange\"] # list type\n",
    "f = ('orange', 'pineapple', 'fruit') # tuple type\n",
    "g = range(5) # range type\n",
    "h = {'bird': 'ostrich', 'location': 'africa'} # dictionary\n",
    "i = {'apple', 'banana', 'orange'} # set \n",
    "j = frozenset({\"apple\", \"banana\", \"orange\"}) # frozenset?\n",
    "k = True # bolean\n",
    "l = None # non type object"
   ]
  },
  {
   "cell_type": "markdown",
   "id": "fd2a36ca",
   "metadata": {},
   "source": [
    "---\n",
    "### Python Strings & it's Methods\n",
    "---"
   ]
  },
  {
   "cell_type": "code",
   "execution_count": 17,
   "id": "62176739",
   "metadata": {},
   "outputs": [],
   "source": [
    "# we will create the strings by using the inbuilt functions of python str()\n",
    "# they are characters surrounded by a single or double quotation marks\n",
    "# 'michael' or \"michael\"\n",
    "\n",
    "s = str()"
   ]
  },
  {
   "cell_type": "code",
   "execution_count": 18,
   "id": "cb7047ab",
   "metadata": {},
   "outputs": [
    {
     "name": "stdout",
     "output_type": "stream",
     "text": [
      "\n"
     ]
    }
   ],
   "source": [
    "# to display the contents of string object we will use the print() function\n",
    "# but printing s will give us the empty object as we didn't pass to it \n",
    "\n",
    "print(s)"
   ]
  },
  {
   "cell_type": "code",
   "execution_count": 21,
   "id": "fd12095f",
   "metadata": {},
   "outputs": [
    {
     "name": "stdout",
     "output_type": "stream",
     "text": [
      "michael\n",
      "michael\n",
      "<class 'str'>\n"
     ]
    }
   ],
   "source": [
    "s1 = ('michael')\n",
    "s2 = 'michael'\n",
    "print(s1)\n",
    "print(s2)\n",
    "print(type(s2)) # strings are the objects of the string class"
   ]
  },
  {
   "cell_type": "code",
   "execution_count": 22,
   "id": "c2f02a88",
   "metadata": {},
   "outputs": [],
   "source": [
    "# strings are immutable it means that it's contents cannot be changed once created"
   ]
  },
  {
   "cell_type": "markdown",
   "id": "66be4994",
   "metadata": {},
   "source": [
    "---\n",
    "#### Functions on Strings\n",
    "---"
   ]
  },
  {
   "cell_type": "code",
   "execution_count": 39,
   "id": "c87ba96b",
   "metadata": {},
   "outputs": [
    {
     "name": "stdout",
     "output_type": "stream",
     "text": [
      "7\n",
      "a\n",
      "m\n"
     ]
    }
   ],
   "source": [
    "# we can use the len() funtion to obtain the number of characters in the strings, min() and max() function to \n",
    "# obtain the smallest and largest characters in the string respectively\n",
    "\n",
    "print(len(s2))\n",
    "print(min(s2)) # depends on the ASCII\n",
    "print(max(s2))"
   ]
  },
  {
   "cell_type": "code",
   "execution_count": 41,
   "id": "7803dd0c",
   "metadata": {},
   "outputs": [
    {
     "name": "stdout",
     "output_type": "stream",
     "text": [
      "109\n"
     ]
    }
   ],
   "source": [
    "print(ord('m'))"
   ]
  },
  {
   "cell_type": "markdown",
   "id": "de2a198e",
   "metadata": {},
   "source": [
    "---\n",
    "#### Slicing of Strings\n",
    "---"
   ]
  },
  {
   "cell_type": "code",
   "execution_count": 66,
   "id": "1262cb8e",
   "metadata": {},
   "outputs": [
    {
     "name": "stdout",
     "output_type": "stream",
     "text": [
      "Michael\n"
     ]
    }
   ],
   "source": [
    "# we can use the s[index] operator to access the part of string\n",
    "# indexes are 0 based ranging from 0 to len(s)-1\n",
    "\n",
    "s = \"Michael\"\n",
    "print(s)"
   ]
  },
  {
   "cell_type": "code",
   "execution_count": 46,
   "id": "c6a65004",
   "metadata": {},
   "outputs": [
    {
     "name": "stdout",
     "output_type": "stream",
     "text": [
      "M\n"
     ]
    }
   ],
   "source": [
    "print(s[0])"
   ]
  },
  {
   "cell_type": "code",
   "execution_count": 48,
   "id": "3835ebed",
   "metadata": {},
   "outputs": [
    {
     "data": {
      "text/plain": [
       "7"
      ]
     },
     "execution_count": 48,
     "metadata": {},
     "output_type": "execute_result"
    }
   ],
   "source": [
    "len(s)"
   ]
  },
  {
   "cell_type": "code",
   "execution_count": 47,
   "id": "fbd466ed",
   "metadata": {},
   "outputs": [
    {
     "data": {
      "text/plain": [
       "'l'"
      ]
     },
     "execution_count": 47,
     "metadata": {},
     "output_type": "execute_result"
    }
   ],
   "source": [
    "# Python also allows the use of negative numbers as indexes to reference\n",
    "# positions relative to the end of the string\n",
    "\n",
    "s[-1]"
   ]
  },
  {
   "cell_type": "code",
   "execution_count": 49,
   "id": "0f655472",
   "metadata": {},
   "outputs": [
    {
     "data": {
      "text/plain": [
       "'ich'"
      ]
     },
     "execution_count": 49,
     "metadata": {},
     "output_type": "execute_result"
    }
   ],
   "source": [
    "# the slicing operator [start:end] returns the slice of the string\n",
    "s[1:4] # returns a substring between index 1, to index 3"
   ]
  },
  {
   "cell_type": "code",
   "execution_count": 50,
   "id": "ac86e9e0",
   "metadata": {},
   "outputs": [
    {
     "data": {
      "text/plain": [
       "'Mich'"
      ]
     },
     "execution_count": 50,
     "metadata": {},
     "output_type": "execute_result"
    }
   ],
   "source": [
    "s[:4] # returns a substring from index 0, to index 3"
   ]
  },
  {
   "cell_type": "code",
   "execution_count": 52,
   "id": "bd5367a2",
   "metadata": {},
   "outputs": [
    {
     "data": {
      "text/plain": [
       "'ichae'"
      ]
     },
     "execution_count": 52,
     "metadata": {},
     "output_type": "execute_result"
    }
   ],
   "source": [
    "s[1:-1] # this is the same as s[1:-1+len(s)]"
   ]
  },
  {
   "cell_type": "markdown",
   "id": "36a63262",
   "metadata": {},
   "source": [
    "---\n",
    "#### Concatenation(+) and Repetition(*) of Strings\n",
    "---"
   ]
  },
  {
   "cell_type": "code",
   "execution_count": 56,
   "id": "64201a1b",
   "metadata": {},
   "outputs": [
    {
     "name": "stdout",
     "output_type": "stream",
     "text": [
      "Welcome to Python tutorial\n"
     ]
    }
   ],
   "source": [
    "# you can use the (+) operator to concatenate the strings together and (*) to concatenate the same\n",
    "# string multiple times\n",
    "\n",
    "s1 = \"Welcome\"\n",
    "s2 = \"Python tutorial\"\n",
    "\n",
    "s3 = s1 + \" to \" +s2\n",
    "print(s3)"
   ]
  },
  {
   "cell_type": "code",
   "execution_count": 59,
   "id": "060e632b",
   "metadata": {},
   "outputs": [
    {
     "name": "stdout",
     "output_type": "stream",
     "text": [
      "WelcomeWelcomeWelcome\n",
      "WelcomeWelcomeWelcome\n"
     ]
    }
   ],
   "source": [
    "s4 = 3*s1\n",
    "s5 = s1*3\n",
    "print(s4)\n",
    "print(s5) # both have the same effect"
   ]
  },
  {
   "cell_type": "markdown",
   "id": "71dc23ed",
   "metadata": {},
   "source": [
    "---\n",
    "#### The *in* and *not in* Operators\n",
    "---"
   ]
  },
  {
   "cell_type": "code",
   "execution_count": 60,
   "id": "5c9d2736",
   "metadata": {},
   "outputs": [
    {
     "data": {
      "text/plain": [
       "True"
      ]
     },
     "execution_count": 60,
     "metadata": {},
     "output_type": "execute_result"
    }
   ],
   "source": [
    "# we can use \"in\" and \"not in\" operators to test wether the string is in another string or not\n",
    "\n",
    "\"ch\" in s"
   ]
  },
  {
   "cell_type": "code",
   "execution_count": 61,
   "id": "630e730a",
   "metadata": {},
   "outputs": [
    {
     "data": {
      "text/plain": [
       "False"
      ]
     },
     "execution_count": 61,
     "metadata": {},
     "output_type": "execute_result"
    }
   ],
   "source": [
    "\"ch\" not in s"
   ]
  },
  {
   "cell_type": "markdown",
   "id": "55e43f71",
   "metadata": {},
   "source": [
    "---\n",
    "#### Comparing of Strings\n",
    "---"
   ]
  },
  {
   "cell_type": "code",
   "execution_count": 63,
   "id": "78f65a81",
   "metadata": {},
   "outputs": [
    {
     "data": {
      "text/plain": [
       "False"
      ]
     },
     "execution_count": 63,
     "metadata": {},
     "output_type": "execute_result"
    }
   ],
   "source": [
    "# we can compare the strings by using of (==,!=, >, >=, <, and <=) which return the bolean (True or False)\n",
    "\n",
    "\"Green\" == \"glow\" # this depends on the ASCII"
   ]
  },
  {
   "cell_type": "code",
   "execution_count": 65,
   "id": "1e1f64c9",
   "metadata": {},
   "outputs": [
    {
     "data": {
      "text/plain": [
       "True"
      ]
     },
     "execution_count": 65,
     "metadata": {},
     "output_type": "execute_result"
    }
   ],
   "source": [
    "\"Green\" < \"glow\""
   ]
  },
  {
   "cell_type": "markdown",
   "id": "91868e1b",
   "metadata": {},
   "source": [
    "---\n",
    "#### Iterating over String\n",
    "---"
   ]
  },
  {
   "cell_type": "code",
   "execution_count": 67,
   "id": "8c59d760",
   "metadata": {},
   "outputs": [
    {
     "name": "stdout",
     "output_type": "stream",
     "text": [
      "Michael"
     ]
    }
   ],
   "source": [
    "for i in range(0, len(s), 1): # by using of for loops\n",
    "    print(s[i], end='')"
   ]
  },
  {
   "cell_type": "markdown",
   "id": "e6ed595e",
   "metadata": {},
   "source": [
    "---\n",
    "#### Testing of Strings\n",
    "---"
   ]
  },
  {
   "cell_type": "code",
   "execution_count": 71,
   "id": "6da33df7",
   "metadata": {},
   "outputs": [
    {
     "data": {
      "text/plain": [
       "False"
      ]
     },
     "execution_count": 71,
     "metadata": {},
     "output_type": "execute_result"
    }
   ],
   "source": [
    "# we can use many useful methods to test the characters of strings\n",
    "s = 'Michael '\n",
    "s.isalnum() # returns True if the characters of this string is alphanumeric and there is at least one character"
   ]
  },
  {
   "cell_type": "code",
   "execution_count": 73,
   "id": "e8ac1864",
   "metadata": {},
   "outputs": [
    {
     "data": {
      "text/plain": [
       "False"
      ]
     },
     "execution_count": 73,
     "metadata": {},
     "output_type": "execute_result"
    }
   ],
   "source": [
    "s.isalpha() #returns True if the characters of this string is alphabetic and there is at least one character"
   ]
  },
  {
   "cell_type": "code",
   "execution_count": 90,
   "id": "65ba109b",
   "metadata": {},
   "outputs": [
    {
     "name": "stdout",
     "output_type": "stream",
     "text": [
      "1234 is a Number string\n"
     ]
    }
   ],
   "source": [
    "x = '1234'\n",
    "if x.isdigit():#Returns True if this string contains only number characters.\n",
    "    print(x, 'is a Number string')"
   ]
  },
  {
   "cell_type": "code",
   "execution_count": 78,
   "id": "4c0031f3",
   "metadata": {},
   "outputs": [
    {
     "data": {
      "text/plain": [
       "False"
      ]
     },
     "execution_count": 78,
     "metadata": {},
     "output_type": "execute_result"
    }
   ],
   "source": [
    "z = ' '\n",
    "z.isspace()"
   ]
  },
  {
   "cell_type": "code",
   "execution_count": 82,
   "id": "019b7e23",
   "metadata": {},
   "outputs": [
    {
     "data": {
      "text/plain": [
       "True"
      ]
     },
     "execution_count": 82,
     "metadata": {},
     "output_type": "execute_result"
    }
   ],
   "source": [
    "a= 'abds'\n",
    "a.islower()"
   ]
  },
  {
   "cell_type": "code",
   "execution_count": 80,
   "id": "3eb36a4e",
   "metadata": {},
   "outputs": [
    {
     "data": {
      "text/plain": [
       "True"
      ]
     },
     "execution_count": 80,
     "metadata": {},
     "output_type": "execute_result"
    }
   ],
   "source": [
    "c=\"ABC\"\n",
    "c.isupper()"
   ]
  },
  {
   "cell_type": "code",
   "execution_count": 85,
   "id": "6cf598cb",
   "metadata": {},
   "outputs": [
    {
     "data": {
      "text/plain": [
       "False"
      ]
     },
     "execution_count": 85,
     "metadata": {},
     "output_type": "execute_result"
    }
   ],
   "source": [
    "\"u lo\".isidentifier()"
   ]
  },
  {
   "cell_type": "markdown",
   "id": "6c163bdc",
   "metadata": {},
   "source": [
    "---\n",
    "#### String Searching\n",
    "---"
   ]
  },
  {
   "cell_type": "code",
   "execution_count": 91,
   "id": "becd6e3c",
   "metadata": {},
   "outputs": [
    {
     "data": {
      "text/plain": [
       "True"
      ]
     },
     "execution_count": 91,
     "metadata": {},
     "output_type": "execute_result"
    }
   ],
   "source": [
    "# We can search for a substring in a string by using of the following methods\n",
    "a = \"Welcome to Python\"\n",
    "a.startswith('W') # returns True if the substring is start with the mentioned letter"
   ]
  },
  {
   "cell_type": "code",
   "execution_count": 92,
   "id": "6802f0c3",
   "metadata": {},
   "outputs": [
    {
     "data": {
      "text/plain": [
       "True"
      ]
     },
     "execution_count": 92,
     "metadata": {},
     "output_type": "execute_result"
    }
   ],
   "source": [
    "a.endswith('thon') # returns True if the substring is ends with the mentioned letter"
   ]
  },
  {
   "cell_type": "code",
   "execution_count": 93,
   "id": "96da1465",
   "metadata": {},
   "outputs": [
    {
     "data": {
      "text/plain": [
       "3"
      ]
     },
     "execution_count": 93,
     "metadata": {},
     "output_type": "execute_result"
    }
   ],
   "source": [
    "a.find('come') # returns the lowest index of the substring where it starts or -1"
   ]
  },
  {
   "cell_type": "code",
   "execution_count": 94,
   "id": "c9c16836",
   "metadata": {},
   "outputs": [
    {
     "data": {
      "text/plain": [
       "15"
      ]
     },
     "execution_count": 94,
     "metadata": {},
     "output_type": "execute_result"
    }
   ],
   "source": [
    "a.rfind(\"o\") # returns the highest index of the substring where it starts or -1"
   ]
  },
  {
   "cell_type": "code",
   "execution_count": 95,
   "id": "2cca67b6",
   "metadata": {},
   "outputs": [
    {
     "data": {
      "text/plain": [
       "3"
      ]
     },
     "execution_count": 95,
     "metadata": {},
     "output_type": "execute_result"
    }
   ],
   "source": [
    "a.count('o') # returns the number of non overlapping occurrence in string"
   ]
  },
  {
   "cell_type": "markdown",
   "id": "e57829b2",
   "metadata": {},
   "source": [
    "---\n",
    "#### Converting of Strings\n",
    "---"
   ]
  },
  {
   "cell_type": "code",
   "execution_count": 96,
   "id": "6e8d04a8",
   "metadata": {},
   "outputs": [
    {
     "data": {
      "text/plain": [
       "'You are pythonista'"
      ]
     },
     "execution_count": 96,
     "metadata": {},
     "output_type": "execute_result"
    }
   ],
   "source": [
    "# We can convert the string by using of the following methods\n",
    "x = \"you are pythonista\"\n",
    "x.capitalize() # Capitalize the first letter"
   ]
  },
  {
   "cell_type": "code",
   "execution_count": 97,
   "id": "6308d6e2",
   "metadata": {},
   "outputs": [
    {
     "data": {
      "text/plain": [
       "'You Are Pythonista'"
      ]
     },
     "execution_count": 97,
     "metadata": {},
     "output_type": "execute_result"
    }
   ],
   "source": [
    "x.title() # returns the string all words are capitalized"
   ]
  },
  {
   "cell_type": "code",
   "execution_count": 98,
   "id": "567e4abd",
   "metadata": {},
   "outputs": [
    {
     "data": {
      "text/plain": [
       "'you are pythonista'"
      ]
     },
     "execution_count": 98,
     "metadata": {},
     "output_type": "execute_result"
    }
   ],
   "source": [
    "x.lower() # returns all words of lower case string"
   ]
  },
  {
   "cell_type": "code",
   "execution_count": 100,
   "id": "53cf7d8f",
   "metadata": {},
   "outputs": [
    {
     "data": {
      "text/plain": [
       "'YOU ARE PYTHONISTA'"
      ]
     },
     "execution_count": 100,
     "metadata": {},
     "output_type": "execute_result"
    }
   ],
   "source": [
    "x.upper() # capitalize all letters in the string"
   ]
  },
  {
   "cell_type": "code",
   "execution_count": 99,
   "id": "e5848e37",
   "metadata": {},
   "outputs": [
    {
     "data": {
      "text/plain": [
       "'bEUTIFUL sOUP'"
      ]
     },
     "execution_count": 99,
     "metadata": {},
     "output_type": "execute_result"
    }
   ],
   "source": [
    "z = \"Beutiful Soup\"\n",
    "z.swapcase() # returns the lower to capitals and viceversa"
   ]
  },
  {
   "cell_type": "code",
   "execution_count": 101,
   "id": "0b057424",
   "metadata": {},
   "outputs": [
    {
     "data": {
      "text/plain": [
       "'Beutiful City'"
      ]
     },
     "execution_count": 101,
     "metadata": {},
     "output_type": "execute_result"
    }
   ],
   "source": [
    "z.replace('Soup', 'City') # replace the old to new"
   ]
  },
  {
   "cell_type": "markdown",
   "id": "350adbaf",
   "metadata": {},
   "source": [
    "---\n",
    "#### Stripping Whitespace Characters\n",
    "---"
   ]
  },
  {
   "cell_type": "code",
   "execution_count": 102,
   "id": "ad3186c5",
   "metadata": {},
   "outputs": [
    {
     "data": {
      "text/plain": [
       "' Welcome to Python'"
      ]
     },
     "execution_count": 102,
     "metadata": {},
     "output_type": "execute_result"
    }
   ],
   "source": [
    "t = \" Welcome to Python\\t\"\n",
    "t.rstrip() # remove the whitespace and its characters in the right"
   ]
  },
  {
   "cell_type": "code",
   "execution_count": 103,
   "id": "9745d060",
   "metadata": {},
   "outputs": [
    {
     "data": {
      "text/plain": [
       "'Welcome to Python\\t'"
      ]
     },
     "execution_count": 103,
     "metadata": {},
     "output_type": "execute_result"
    }
   ],
   "source": [
    "t.lstrip() # remove the left whitespace"
   ]
  },
  {
   "cell_type": "code",
   "execution_count": 104,
   "id": "3428ac2e",
   "metadata": {},
   "outputs": [
    {
     "data": {
      "text/plain": [
       "'Welcome to Python'"
      ]
     },
     "execution_count": 104,
     "metadata": {},
     "output_type": "execute_result"
    }
   ],
   "source": [
    "t.strip()# returns the trimmed whitespace from both sides"
   ]
  },
  {
   "cell_type": "markdown",
   "id": "983a2741",
   "metadata": {},
   "source": [
    "---\n",
    "#### Formatting Strings\n",
    "---"
   ]
  },
  {
   "cell_type": "code",
   "execution_count": 106,
   "id": "245c94b1",
   "metadata": {},
   "outputs": [
    {
     "data": {
      "text/plain": [
       "'Welcome   '"
      ]
     },
     "execution_count": 106,
     "metadata": {},
     "output_type": "execute_result"
    }
   ],
   "source": [
    "v = \"Welcome\"\n",
    "\n",
    "v.ljust(10) # returns string left justified with the specified width"
   ]
  },
  {
   "cell_type": "code",
   "execution_count": 107,
   "id": "af6f59ea",
   "metadata": {},
   "outputs": [
    {
     "data": {
      "text/plain": [
       "'   Welcome'"
      ]
     },
     "execution_count": 107,
     "metadata": {},
     "output_type": "execute_result"
    }
   ],
   "source": [
    "v.rjust(10) # returns string right justified with the specified width"
   ]
  },
  {
   "cell_type": "code",
   "execution_count": 108,
   "id": "cfd4616a",
   "metadata": {},
   "outputs": [
    {
     "data": {
      "text/plain": [
       "' Welcome  '"
      ]
     },
     "execution_count": 108,
     "metadata": {},
     "output_type": "execute_result"
    }
   ],
   "source": [
    "v.center(10) # returns string centerly justified with the specified width"
   ]
  },
  {
   "cell_type": "code",
   "execution_count": 109,
   "id": "bef9de8c",
   "metadata": {},
   "outputs": [
    {
     "data": {
      "text/plain": [
       "'3 + 6 is 9'"
      ]
     },
     "execution_count": 109,
     "metadata": {},
     "output_type": "execute_result"
    }
   ],
   "source": [
    "a = 3\n",
    "b= 6\n",
    "f'{a} + {b} is {a+b}'"
   ]
  },
  {
   "cell_type": "code",
   "execution_count": null,
   "id": "ad6e0cbb",
   "metadata": {},
   "outputs": [],
   "source": []
  }
 ],
 "metadata": {
  "kernelspec": {
   "display_name": "Python 3 (ipykernel)",
   "language": "python",
   "name": "python3"
  },
  "language_info": {
   "codemirror_mode": {
    "name": "ipython",
    "version": 3
   },
   "file_extension": ".py",
   "mimetype": "text/x-python",
   "name": "python",
   "nbconvert_exporter": "python",
   "pygments_lexer": "ipython3",
   "version": "3.9.12"
  }
 },
 "nbformat": 4,
 "nbformat_minor": 5
}
