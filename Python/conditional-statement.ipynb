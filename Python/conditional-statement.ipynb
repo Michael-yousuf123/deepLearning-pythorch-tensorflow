{
 "cells": [
  {
   "cell_type": "markdown",
   "id": "f47095b2",
   "metadata": {},
   "source": [
    "----\n",
    "#### Python Conditions\n",
    "---\n",
    "  - Python supports the usual logical conditions from mathematics:\n",
    "    - Equals: a == b\n",
    "    - Not Equals: a != b\n",
    "    - Less than: a < b\n",
    "    - Less than or equal to: a <= b\n",
    "    - Greater than: a > b\n",
    "    - Greater than or equal to: a >= b\n",
    "  - We can use these intuition in Python to create the conditional statements\n",
    "    "
   ]
  },
  {
   "cell_type": "markdown",
   "id": "a06beff2",
   "metadata": {},
   "source": [
    "---\n",
    "#### If-statement\n",
    "---"
   ]
  },
  {
   "cell_type": "code",
   "execution_count": 4,
   "id": "99f6bdd2",
   "metadata": {},
   "outputs": [
    {
     "ename": "NameError",
     "evalue": "name 'boolean' is not defined",
     "output_type": "error",
     "traceback": [
      "\u001b[0;31m---------------------------------------------------------------------------\u001b[0m",
      "\u001b[0;31mNameError\u001b[0m                                 Traceback (most recent call last)",
      "Input \u001b[0;32mIn [4]\u001b[0m, in \u001b[0;36m<cell line: 1>\u001b[0;34m()\u001b[0m\n\u001b[0;32m----> 1\u001b[0m \u001b[38;5;28;01mif\u001b[39;00m \u001b[43mboolean\u001b[49m\u001b[38;5;241m-\u001b[39mexpression:\n\u001b[1;32m      2\u001b[0m     statement(s)\n",
      "\u001b[0;31mNameError\u001b[0m: name 'boolean' is not defined"
     ]
    }
   ],
   "source": [
    "if boolean-expression:\n",
    "    statement(s) # Note that the statement(s) must be indented"
   ]
  },
  {
   "cell_type": "code",
   "execution_count": 2,
   "id": "e3a413b1",
   "metadata": {},
   "outputs": [
    {
     "name": "stdout",
     "output_type": "stream",
     "text": [
      "3 is less than 7\n"
     ]
    }
   ],
   "source": [
    "a = 3\n",
    "b = 7\n",
    "if a < b:\n",
    "    print(a, \"is less than 7\")"
   ]
  },
  {
   "cell_type": "code",
   "execution_count": 3,
   "id": "93b578d9",
   "metadata": {},
   "outputs": [
    {
     "ename": "IndentationError",
     "evalue": "expected an indented block (4085365998.py, line 2)",
     "output_type": "error",
     "traceback": [
      "\u001b[0;36m  Input \u001b[0;32mIn [3]\u001b[0;36m\u001b[0m\n\u001b[0;31m    print(a)\u001b[0m\n\u001b[0m    ^\u001b[0m\n\u001b[0;31mIndentationError\u001b[0m\u001b[0;31m:\u001b[0m expected an indented block\n"
     ]
    }
   ],
   "source": [
    "if a < b: # indentation matters\n",
    "print(a)"
   ]
  },
  {
   "cell_type": "code",
   "execution_count": 5,
   "id": "73565e0c",
   "metadata": {},
   "outputs": [
    {
     "name": "stdout",
     "output_type": "stream",
     "text": [
      "3 is less than 7\n"
     ]
    }
   ],
   "source": [
    "if a< b: print(a, \"is less than 7\") # short hand if statement"
   ]
  },
  {
   "cell_type": "markdown",
   "id": "2ab4e3b1",
   "metadata": {},
   "source": [
    "---\n",
    "#### Else-statement\n",
    "---"
   ]
  },
  {
   "cell_type": "markdown",
   "id": "13127537",
   "metadata": {},
   "source": [
    "- if boolean-expression:\n",
    "   - statement(s)-for-the-true-case\n",
    "-else:\n",
    "   - statement(s)-for-the-false-case"
   ]
  },
  {
   "cell_type": "code",
   "execution_count": 7,
   "id": "32e4ea0b",
   "metadata": {},
   "outputs": [
    {
     "name": "stdout",
     "output_type": "stream",
     "text": [
      "Enter your Even guess Number: 2\n",
      "You won\n"
     ]
    }
   ],
   "source": [
    "inp = eval(input(\"Enter your Even guess Number: \"))\n",
    "\n",
    "if inp % 2==0:\n",
    "    print(\"You won\")\n",
    "else:\n",
    "    print(\"Youn lost, try again later\")"
   ]
  },
  {
   "cell_type": "code",
   "execution_count": 9,
   "id": "121038dc",
   "metadata": {},
   "outputs": [
    {
     "name": "stdout",
     "output_type": "stream",
     "text": [
      "B\n"
     ]
    }
   ],
   "source": [
    "a = 2\n",
    "b = 330\n",
    "print(\"A\") if a > b else print(\"B\") # short hand if-else statement"
   ]
  },
  {
   "cell_type": "code",
   "execution_count": 12,
   "id": "fef29460",
   "metadata": {},
   "outputs": [
    {
     "name": "stdout",
     "output_type": "stream",
     "text": [
      "=\n"
     ]
    }
   ],
   "source": [
    "a = 3\n",
    "b = 3\n",
    "print(\"A\") if a > b else print(\"=\") if a == b else print(\"B\")"
   ]
  },
  {
   "cell_type": "markdown",
   "id": "4f853482",
   "metadata": {},
   "source": [
    "---\n",
    "#### Elif-Statements\n",
    "---\n",
    "\n",
    "   - The elif keyword is Python's way of saying \"if the previous conditions were not true, then try this  condition\"."
   ]
  },
  {
   "cell_type": "code",
   "execution_count": 14,
   "id": "ee5c1ab8",
   "metadata": {},
   "outputs": [
    {
     "name": "stdout",
     "output_type": "stream",
     "text": [
      "a is greater than b\n"
     ]
    }
   ],
   "source": [
    "a = 33\n",
    "b = 3\n",
    "if b > a:\n",
    "    print(\"b is greater than a\")\n",
    "elif a == b:\n",
    "    print(\"a and b are equal\")\n",
    "else:\n",
    "    print(\"a is greater than b\")"
   ]
  },
  {
   "cell_type": "markdown",
   "id": "7ca22eb6",
   "metadata": {},
   "source": [
    "---\n",
    "#### Nested if and Multi-Way if-elif-else Statements\n",
    "---"
   ]
  },
  {
   "cell_type": "code",
   "execution_count": 16,
   "id": "5fbb527e",
   "metadata": {},
   "outputs": [
    {
     "name": "stdout",
     "output_type": "stream",
     "text": [
      "i is less than or equal to k\n"
     ]
    }
   ],
   "source": [
    "i = 0\n",
    "j =2\n",
    "k = 1\n",
    "if i > k:\n",
    "    if j > k:\n",
    "        print(\"i and j are greater than k\")\n",
    "else:\n",
    "    print(\"i is less than or equal to k\")"
   ]
  },
  {
   "cell_type": "code",
   "execution_count": 19,
   "id": "489a5fbe",
   "metadata": {},
   "outputs": [
    {
     "name": "stdout",
     "output_type": "stream",
     "text": [
      "Enter your Score: 60\n",
      "Your Grade is D\n"
     ]
    }
   ],
   "source": [
    "score = eval(input(\"Enter your Score: \"))\n",
    "\n",
    "if score > 90:\n",
    "    print(\"A\")\n",
    "elif score >= 80:\n",
    "    print(\"B\")\n",
    "elif score >= 70:\n",
    "    print(\"Your Grade is C\")\n",
    "elif score >= 60:\n",
    "    print(\"Your Grade is D\")\n",
    "else:\n",
    "    print(\"Your Grade is F\")"
   ]
  },
  {
   "cell_type": "code",
   "execution_count": 20,
   "id": "b798ad9e",
   "metadata": {},
   "outputs": [
    {
     "name": "stdout",
     "output_type": "stream",
     "text": [
      "Enter your Weight in KG: 78\n",
      "Enter your Height in M: 1.60\n",
      "BMI is  30.47\n",
      "Obese\n"
     ]
    }
   ],
   "source": [
    "weight = eval(input(\"Enter your Weight in KG: \"))\n",
    "height = eval(input(\"Enter your Height in M: \"))\n",
    "\n",
    "BMI = weight/(height*height)\n",
    "\n",
    "print(\"BMI is \", format(BMI, \".2f\"))\n",
    "\n",
    "if BMI < 18.5:\n",
    "    print(\"Underweight\")\n",
    "elif BMI < 25:\n",
    "    print(\"Normal\")\n",
    "elif BMI < 30:\n",
    "    print(\"Overweight\")\n",
    "else:\n",
    "    print(\"Obese\")"
   ]
  },
  {
   "cell_type": "markdown",
   "id": "fbe59954",
   "metadata": {},
   "source": [
    "---\n",
    "#### Logical Operators\n",
    "---\n",
    "   - The logical operators ***not***, ***and***, and ***or*** can be used to create a composite condition."
   ]
  },
  {
   "cell_type": "code",
   "execution_count": 21,
   "id": "bacf2e2a",
   "metadata": {},
   "outputs": [
    {
     "name": "stdout",
     "output_type": "stream",
     "text": [
      "Enter an Integer: 6\n",
      "6 is divisible by 2 and 3\n"
     ]
    }
   ],
   "source": [
    "number = eval(input('Enter an Integer: ')) \n",
    "\n",
    "if number % 2 == 0 and number %3==0:\n",
    "    print(number, \"is divisible by 2 and 3\")"
   ]
  },
  {
   "cell_type": "code",
   "execution_count": 22,
   "id": "44b9ffb0",
   "metadata": {},
   "outputs": [
    {
     "name": "stdout",
     "output_type": "stream",
     "text": [
      "6 is divisible by 2 or 3\n"
     ]
    }
   ],
   "source": [
    "if number % 2 == 0 or number % 3 == 0:\n",
    "    print(number, \"is divisible by 2 or 3\")"
   ]
  },
  {
   "cell_type": "code",
   "execution_count": 26,
   "id": "cfd930b5",
   "metadata": {},
   "outputs": [
    {
     "name": "stdout",
     "output_type": "stream",
     "text": [
      "Enter an Integer: 15\n",
      "15 is divisible by 2 or 3, but not both\n"
     ]
    }
   ],
   "source": [
    "number = eval(input('Enter an Integer: ')) \n",
    "if (number % 2 == 0 or number % 3 == 0) and not (number % 2 == 0 and number % 3 == 0) :\n",
    "    print(number, \"is divisible by 2 or 3, but not both\")"
   ]
  },
  {
   "cell_type": "markdown",
   "id": "9e0d9fed",
   "metadata": {},
   "source": [
    "---\n",
    "#### Exercise\n",
    "---"
   ]
  },
  {
   "cell_type": "code",
   "execution_count": 29,
   "id": "8a0866a6",
   "metadata": {},
   "outputs": [
    {
     "name": "stdout",
     "output_type": "stream",
     "text": [
      "Object `why` not found.\n",
      "z is 7\n"
     ]
    }
   ],
   "source": [
    "1. Describe the output of the following code depending on the inputs given below? why?\n",
    "#x = 3 \n",
    "#y = 2      \n",
    "#x = 3\n",
    "#y = 4 \n",
    "\n",
    "#x = 2 \n",
    "#y = 2 \n",
    "\n",
    "if x > 2:\n",
    "    if y > 2:\n",
    "        z = x + y\n",
    "        print(\"z is\", z)\n",
    "    else:\n",
    "        print(\"x is\", x)"
   ]
  },
  {
   "cell_type": "code",
   "execution_count": 34,
   "id": "96208883",
   "metadata": {},
   "outputs": [
    {
     "name": "stdout",
     "output_type": "stream",
     "text": [
      "x is 2\n"
     ]
    }
   ],
   "source": [
    "2. #what if the second code with the same inputs\n",
    "\n",
    "if x > 2:\n",
    "    if y > 2:\n",
    "        z = x + y\n",
    "        print(\"z is\", z)\n",
    "else:\n",
    "    print(\"x is\", x)"
   ]
  },
  {
   "cell_type": "markdown",
   "id": "83b05c8f",
   "metadata": {},
   "source": [
    "3. Write the logical expression which asks for inputs of the year and return the year is leapyear or not\n",
    "    - A leap year is divisible by 4\n",
    "    - A leap year is divisible by 4 but not by 100\n",
    "    - A leap year is divisible by 4 but not by 100 or divisible by 400"
   ]
  },
  {
   "cell_type": "code",
   "execution_count": null,
   "id": "5a1dc902",
   "metadata": {},
   "outputs": [],
   "source": []
  }
 ],
 "metadata": {
  "kernelspec": {
   "display_name": "Python 3 (ipykernel)",
   "language": "python",
   "name": "python3"
  },
  "language_info": {
   "codemirror_mode": {
    "name": "ipython",
    "version": 3
   },
   "file_extension": ".py",
   "mimetype": "text/x-python",
   "name": "python",
   "nbconvert_exporter": "python",
   "pygments_lexer": "ipython3",
   "version": "3.9.12"
  }
 },
 "nbformat": 4,
 "nbformat_minor": 5
}
