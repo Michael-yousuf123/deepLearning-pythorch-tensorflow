{
 "cells": [
  {
   "cell_type": "markdown",
   "id": "b829a337",
   "metadata": {},
   "source": [
    "---\n",
    "## Lists\n",
    "---\n",
    "\n",
    "           -A list is a sequence defined by the list class. It contains the methods for creating, manipulating, and processing lists. Elements in a list can be accessed through an index."
   ]
  },
  {
   "cell_type": "code",
   "execution_count": 5,
   "id": "0a869bc1",
   "metadata": {},
   "outputs": [],
   "source": [
    "lis1 = list() # creating an empty list\n",
    "lis2 = list([\"green\", \"blue\", \"red\"]) # create a list with strings\n",
    "lis3 = list(range(1, 7)) # create a list with a range between 1 and 7\n",
    "lis4 = list(\"abcd\") # create a list with characters"
   ]
  },
  {
   "cell_type": "markdown",
   "id": "74f14a7d",
   "metadata": {},
   "source": [
    "---\n",
    "#### Functions on list\n",
    "---"
   ]
  },
  {
   "cell_type": "code",
   "execution_count": 12,
   "id": "78e200ee",
   "metadata": {},
   "outputs": [
    {
     "data": {
      "text/plain": [
       "[6, 5, 3, 1, 2, 4]"
      ]
     },
     "execution_count": 12,
     "metadata": {},
     "output_type": "execute_result"
    }
   ],
   "source": [
    "l = [1,2,3,4,5,6]\n",
    "#len(l) # to get the length of list\n",
    "max(l) # to get the maximum element in the list\n",
    "min(l) # to get the minimum element in the list\n",
    "sum(l) # to get the sum of the list\n",
    "import random\n",
    "random.shuffle(l) # to shuffle the elements in the list\n",
    "l"
   ]
  },
  {
   "cell_type": "code",
   "execution_count": 14,
   "id": "003c6599",
   "metadata": {},
   "outputs": [
    {
     "data": {
      "text/plain": [
       "6"
      ]
     },
     "execution_count": 14,
     "metadata": {},
     "output_type": "execute_result"
    }
   ],
   "source": [
    "# indexing \n",
    "#l[index] # used to get the items in the list\n",
    "l[0] # to access the first index"
   ]
  },
  {
   "cell_type": "code",
   "execution_count": 15,
   "id": "4422f2ba",
   "metadata": {},
   "outputs": [
    {
     "data": {
      "text/plain": [
       "[3, 1, 2, 4]"
      ]
     },
     "execution_count": 15,
     "metadata": {},
     "output_type": "execute_result"
    }
   ],
   "source": [
    "l[2:] # to get the items starting from index two"
   ]
  },
  {
   "cell_type": "code",
   "execution_count": 16,
   "id": "366fc9e9",
   "metadata": {},
   "outputs": [
    {
     "data": {
      "text/plain": [
       "4"
      ]
     },
     "execution_count": 16,
     "metadata": {},
     "output_type": "execute_result"
    }
   ],
   "source": [
    "l[-1] # to get the last elements"
   ]
  },
  {
   "cell_type": "code",
   "execution_count": 19,
   "id": "360e63c2",
   "metadata": {},
   "outputs": [
    {
     "name": "stdout",
     "output_type": "stream",
     "text": [
      "0 1 2 3 4 5 "
     ]
    }
   ],
   "source": [
    "# looping ove the list\n",
    "for i in range(len(l)):\n",
    "    l[i] = i\n",
    "    print(l[i], end = \" \")"
   ]
  },
  {
   "cell_type": "code",
   "execution_count": 23,
   "id": "b8faeb3e",
   "metadata": {},
   "outputs": [
    {
     "name": "stdout",
     "output_type": "stream",
     "text": [
      "3 6 9 "
     ]
    }
   ],
   "source": [
    "li = [3,6,9]\n",
    "for i in li: # traversing the list\n",
    "    print(i, end = \" \")"
   ]
  },
  {
   "cell_type": "code",
   "execution_count": 25,
   "id": "b02c4da3",
   "metadata": {},
   "outputs": [
    {
     "data": {
      "text/plain": [
       "[0, 1, 4, 9, 16, 25, 36]"
      ]
     },
     "execution_count": 25,
     "metadata": {},
     "output_type": "execute_result"
    }
   ],
   "source": [
    "lis3 = [x*x for x in range(7)] # creating list by using list comprehensions\n",
    "lis3"
   ]
  },
  {
   "cell_type": "code",
   "execution_count": 26,
   "id": "ce707257",
   "metadata": {},
   "outputs": [
    {
     "data": {
      "text/plain": [
       "[0.0, 0.5, 2.0, 4.5, 8.0, 12.5, 18.0]"
      ]
     },
     "execution_count": 26,
     "metadata": {},
     "output_type": "execute_result"
    }
   ],
   "source": [
    "lis4 = [0.5*x for x in lis3]\n",
    "lis4"
   ]
  },
  {
   "cell_type": "code",
   "execution_count": 27,
   "id": "3fad44fc",
   "metadata": {},
   "outputs": [
    {
     "data": {
      "text/plain": [
       "[0.0, 0.5, 2.0, 4.5, 8.0, 12.5]"
      ]
     },
     "execution_count": 27,
     "metadata": {},
     "output_type": "execute_result"
    }
   ],
   "source": [
    "lis5 = [x for x in lis4 if x <= 12.5]\n",
    "lis5"
   ]
  },
  {
   "cell_type": "markdown",
   "id": "fb51e650",
   "metadata": {},
   "source": [
    "---\n",
    "#### Methods in Lists\n",
    "---"
   ]
  },
  {
   "cell_type": "code",
   "execution_count": 28,
   "id": "8dd4da22",
   "metadata": {},
   "outputs": [
    {
     "data": {
      "text/plain": [
       "[1, 1, 98, 4, 6, 9, 23]"
      ]
     },
     "execution_count": 28,
     "metadata": {},
     "output_type": "execute_result"
    }
   ],
   "source": [
    "lis6 = [1, 1, 98, 4, 6, 9]\n",
    "lis6.append(23) # add to the end of the list\n",
    "lis6"
   ]
  },
  {
   "cell_type": "code",
   "execution_count": 29,
   "id": "528fc874",
   "metadata": {},
   "outputs": [
    {
     "data": {
      "text/plain": [
       "2"
      ]
     },
     "execution_count": 29,
     "metadata": {},
     "output_type": "execute_result"
    }
   ],
   "source": [
    "lis6.count(1) # print the occurrence number of the list element"
   ]
  },
  {
   "cell_type": "code",
   "execution_count": 31,
   "id": "0cabaa06",
   "metadata": {},
   "outputs": [
    {
     "data": {
      "text/plain": [
       "[1, 1, 98, 4, 6, 9, 23, 3, 7, 0, 3, 7, 0]"
      ]
     },
     "execution_count": 31,
     "metadata": {},
     "output_type": "execute_result"
    }
   ],
   "source": [
    "lis7 = [3,7,0]\n",
    "lis6.extend(lis7) # add a list to another list\n",
    "lis6 "
   ]
  },
  {
   "cell_type": "code",
   "execution_count": 32,
   "id": "38e2fdc7",
   "metadata": {},
   "outputs": [
    {
     "data": {
      "text/plain": [
       "3"
      ]
     },
     "execution_count": 32,
     "metadata": {},
     "output_type": "execute_result"
    }
   ],
   "source": [
    "lis6.index(4) # print the element in the list for a given index"
   ]
  },
  {
   "cell_type": "code",
   "execution_count": 33,
   "id": "494fdf4e",
   "metadata": {},
   "outputs": [
    {
     "data": {
      "text/plain": [
       "[1, 56, 1, 98, 4, 6, 9, 23, 3, 7, 0, 3, 7, 0]"
      ]
     },
     "execution_count": 33,
     "metadata": {},
     "output_type": "execute_result"
    }
   ],
   "source": [
    "lis6.insert(1, 56) # insert 56 into the index 1\n",
    "lis6"
   ]
  },
  {
   "cell_type": "code",
   "execution_count": 37,
   "id": "073976af",
   "metadata": {},
   "outputs": [
    {
     "data": {
      "text/plain": [
       "[0, 7, 3, 0, 7, 3, 23, 9, 6, 4, 98, 1, 56, 1]"
      ]
     },
     "execution_count": 37,
     "metadata": {},
     "output_type": "execute_result"
    }
   ],
   "source": [
    "lis6.reverse() # reverse the list elements\n",
    "lis6"
   ]
  },
  {
   "cell_type": "code",
   "execution_count": 38,
   "id": "d92b48d5",
   "metadata": {},
   "outputs": [
    {
     "data": {
      "text/plain": [
       "[0, 7, 3, 0, 7, 3, 9, 6, 4, 98, 1, 56, 1]"
      ]
     },
     "execution_count": 38,
     "metadata": {},
     "output_type": "execute_result"
    }
   ],
   "source": [
    "lis6.remove(23) # remove 23 from list\n",
    "lis6"
   ]
  },
  {
   "cell_type": "code",
   "execution_count": 39,
   "id": "0381603c",
   "metadata": {},
   "outputs": [
    {
     "data": {
      "text/plain": [
       "[0, 7]"
      ]
     },
     "execution_count": 39,
     "metadata": {},
     "output_type": "execute_result"
    }
   ],
   "source": [
    "lis7.pop() # remove the last index element from the list\n",
    "lis7"
   ]
  },
  {
   "cell_type": "markdown",
   "id": "20f6e446",
   "metadata": {},
   "source": [
    "---\n",
    "#### Exercise\n",
    "---"
   ]
  },
  {
   "cell_type": "markdown",
   "id": "3da26948",
   "metadata": {},
   "source": [
    "1. How do you create an empty list and a list with the three integers 1, 32, and 2?\n",
    "2. Given lst = [30, 1, 12, 14, 10, 0], how many elements are in lst? What is the index of the first element in lst? What is the index of the last element in lst? What is lst[2]? What is lst[-2]?\n",
    "3. Given lst = [30, 1, 2, 1, 0], what is the list after applying each of the following statements? Assume that each line of code is independent.\n",
    "    - lst.append(40)\n",
    "    - lst.insert(1, 43)\n",
    "    - lst.extend([1, 43])\n",
    "    - lst.remove(1)\n",
    "    - lst.pop(1)\n",
    "    - lst.pop()\n",
    "    - lst.sort()\n",
    "    - lst.reverse()\n",
    "    - random.shuffle(lst)\n",
    "4. Given lst = [30, 1, 2, 1, 0], what is the return value of each of the following statements?\n",
    "    \n",
    "    - lst.index(1)\n",
    "    - lst.count(1)\n",
    "    - len(lst)\n",
    "    - max(lst)\n",
    "    - min(lst)\n",
    "    - sum(lst)"
   ]
  },
  {
   "cell_type": "code",
   "execution_count": null,
   "id": "c15867bb",
   "metadata": {},
   "outputs": [],
   "source": []
  }
 ],
 "metadata": {
  "kernelspec": {
   "display_name": "Python 3 (ipykernel)",
   "language": "python",
   "name": "python3"
  },
  "language_info": {
   "codemirror_mode": {
    "name": "ipython",
    "version": 3
   },
   "file_extension": ".py",
   "mimetype": "text/x-python",
   "name": "python",
   "nbconvert_exporter": "python",
   "pygments_lexer": "ipython3",
   "version": "3.9.12"
  }
 },
 "nbformat": 4,
 "nbformat_minor": 5
}
