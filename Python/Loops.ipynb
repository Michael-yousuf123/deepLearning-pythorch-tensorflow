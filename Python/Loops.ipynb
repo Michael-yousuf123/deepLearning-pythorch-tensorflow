{
 "cells": [
  {
   "cell_type": "markdown",
   "id": "9b7d4eeb",
   "metadata": {},
   "source": [
    "---\n",
    "### Loop\n",
    "---\n",
    "   - A loop can be used to tell a program to execute statements repeatedly."
   ]
  },
  {
   "cell_type": "code",
   "execution_count": 1,
   "id": "bd4b157a",
   "metadata": {},
   "outputs": [],
   "source": [
    "# Suppose you need to print the statement of \"I am a Pythoneer\" for 50 times. you need to print the statements\n",
    "# by using the print() python function for fifty times. However you can simply print the statement by using\n",
    "# a while loop"
   ]
  },
  {
   "cell_type": "code",
   "execution_count": 9,
   "id": "1a5c13f7",
   "metadata": {},
   "outputs": [
    {
     "name": "stdout",
     "output_type": "stream",
     "text": [
      "I am a Pythoneer. I am a Pythoneer. I am a Pythoneer. I am a Pythoneer. I am a Pythoneer. I am a Pythoneer. I am a Pythoneer. I am a Pythoneer. I am a Pythoneer. I am a Pythoneer. I am a Pythoneer. I am a Pythoneer. I am a Pythoneer. I am a Pythoneer. I am a Pythoneer. I am a Pythoneer. I am a Pythoneer. I am a Pythoneer. I am a Pythoneer. I am a Pythoneer. I am a Pythoneer. I am a Pythoneer. I am a Pythoneer. I am a Pythoneer. I am a Pythoneer. I am a Pythoneer. I am a Pythoneer. I am a Pythoneer. I am a Pythoneer. I am a Pythoneer. I am a Pythoneer. I am a Pythoneer. I am a Pythoneer. I am a Pythoneer. I am a Pythoneer. I am a Pythoneer. I am a Pythoneer. I am a Pythoneer. I am a Pythoneer. I am a Pythoneer. I am a Pythoneer. I am a Pythoneer. I am a Pythoneer. I am a Pythoneer. I am a Pythoneer. I am a Pythoneer. I am a Pythoneer. I am a Pythoneer. I am a Pythoneer. I am a Pythoneer. "
     ]
    }
   ],
   "source": [
    "count = 0\n",
    "while count < 50:\n",
    "    print(\"I am a Pythoneer\", end = \". \")\n",
    "    count += 1"
   ]
  },
  {
   "cell_type": "markdown",
   "id": "daedead2",
   "metadata": {},
   "source": [
    "### Python has two loop commands:\n",
    "\n",
    "   - while loops\n",
    "   - for loops"
   ]
  },
  {
   "cell_type": "markdown",
   "id": "5b49299e",
   "metadata": {},
   "source": [
    "---\n",
    " **While-loop**\n",
    "---\n",
    "\n",
    "  - With the while loop we can execute a set of statements as long as a condition is true.\n",
    "  - ***it is a condition controlled***\n",
    "  - while loop-continuation-condition:\n",
    "        #Loop body\n",
    "        Statement(s)"
   ]
  },
  {
   "cell_type": "code",
   "execution_count": 10,
   "id": "600249df",
   "metadata": {},
   "outputs": [
    {
     "name": "stdout",
     "output_type": "stream",
     "text": [
      "The sum is 45\n"
     ]
    }
   ],
   "source": [
    "i = 0\n",
    "sumi = 0 \n",
    "\n",
    "while i < 10:\n",
    "    sumi += i\n",
    "    i += 1 # beware of indentation \n",
    "print(\"The sum is\", sumi)"
   ]
  },
  {
   "cell_type": "code",
   "execution_count": 11,
   "id": "d76bc3c0",
   "metadata": {},
   "outputs": [
    {
     "name": "stdout",
     "output_type": "stream",
     "text": [
      "Enter your Number: 40\n",
      "Your guess is too low\n",
      "Enter your Number: 60\n",
      "Your guess is too low\n",
      "Enter your Number: 70\n",
      "Your guess is too high\n",
      "Enter your Number: 65\n",
      "You got it!\n"
     ]
    }
   ],
   "source": [
    "import random\n",
    "\n",
    "number = random.randint(0, 100)\n",
    "\n",
    "guess = -1\n",
    "\n",
    "while guess != number:\n",
    "    guess = eval(input(\"Enter your Number: \"))\n",
    "    \n",
    "    if guess == number:\n",
    "        print(\"You got it!\")\n",
    "    elif guess < number:\n",
    "        print(\"Your guess is too low\")\n",
    "    else:\n",
    "        print(\"Your guess is too high\")"
   ]
  },
  {
   "cell_type": "markdown",
   "id": "6fd01b27",
   "metadata": {},
   "source": [
    "---\n",
    "#### The *break* Statement\n",
    "---\n",
    "  - With the break statement we can stop the loop even if the while condition is true"
   ]
  },
  {
   "cell_type": "code",
   "execution_count": 17,
   "id": "be3d9734",
   "metadata": {},
   "outputs": [
    {
     "name": "stdout",
     "output_type": "stream",
     "text": [
      "1\n",
      "2\n",
      "3\n",
      "4\n"
     ]
    }
   ],
   "source": [
    "i = 1\n",
    "while i < 10:\n",
    "    print(i)\n",
    "    i += 1\n",
    "    if i == 5:\n",
    "        break\n",
    "    #i += 1 # compare the two"
   ]
  },
  {
   "cell_type": "markdown",
   "id": "8df99d6b",
   "metadata": {},
   "source": [
    "---\n",
    "#### The *continue* Statement\n",
    "---\n",
    "  - With the continue statement we can stop the current iteration, and continue with the next:"
   ]
  },
  {
   "cell_type": "code",
   "execution_count": 21,
   "id": "93387685",
   "metadata": {},
   "outputs": [
    {
     "name": "stdout",
     "output_type": "stream",
     "text": [
      "1\n",
      "2\n",
      "3\n",
      "4\n",
      "6\n",
      "7\n",
      "8\n",
      "9\n",
      "10\n"
     ]
    }
   ],
   "source": [
    "i = 0\n",
    "while i < 10:\n",
    "    i += 1\n",
    "    if i == 5:\n",
    "        continue\n",
    "    print(i)\n",
    "    "
   ]
  },
  {
   "cell_type": "markdown",
   "id": "c063bd77",
   "metadata": {},
   "source": [
    "---\n",
    "## for-loop\n",
    "---\n",
    "   - A Python ***for*** loop iterates through each value in a sequence."
   ]
  },
  {
   "cell_type": "code",
   "execution_count": 22,
   "id": "23849491",
   "metadata": {},
   "outputs": [
    {
     "name": "stdout",
     "output_type": "stream",
     "text": [
      "0 1 2 3 4 5 6 7 "
     ]
    }
   ],
   "source": [
    "for i in range(8):\n",
    "    print(i, end = \" \")"
   ]
  },
  {
   "cell_type": "code",
   "execution_count": 23,
   "id": "1d10ec81",
   "metadata": {},
   "outputs": [
    {
     "name": "stdout",
     "output_type": "stream",
     "text": [
      "1 3 5 7 9 "
     ]
    }
   ],
   "source": [
    "for i in range(1, 10, 2):\n",
    "    print(i, end = \" \")"
   ]
  },
  {
   "cell_type": "code",
   "execution_count": 53,
   "id": "771548e0",
   "metadata": {},
   "outputs": [
    {
     "name": "stdout",
     "output_type": "stream",
     "text": [
      "o r a n g e "
     ]
    }
   ],
   "source": [
    "# loop through string\n",
    "for i in \"orange\":\n",
    "    print(i, end=\" \")"
   ]
  },
  {
   "cell_type": "code",
   "execution_count": 54,
   "id": "eb837dff",
   "metadata": {},
   "outputs": [
    {
     "name": "stdout",
     "output_type": "stream",
     "text": [
      "audi\n",
      "bmw\n",
      "ferrari\n"
     ]
    }
   ],
   "source": [
    "car = [\"audi\", \"bmw\", \"ferrari\", \"lamborgini\"]\n",
    "for x in car:\n",
    "    print(x)\n",
    "    if x == \"ferrari\":\n",
    "        break"
   ]
  },
  {
   "cell_type": "code",
   "execution_count": 55,
   "id": "25f49050",
   "metadata": {},
   "outputs": [
    {
     "name": "stdout",
     "output_type": "stream",
     "text": [
      "audi\n",
      "bmw\n"
     ]
    }
   ],
   "source": [
    "for x in car: # don't include ferrari\n",
    "    if x == \"ferrari\":\n",
    "        break\n",
    "    print(x)"
   ]
  },
  {
   "cell_type": "code",
   "execution_count": 56,
   "id": "22db76e3",
   "metadata": {},
   "outputs": [
    {
     "name": "stdout",
     "output_type": "stream",
     "text": [
      "audi\n",
      "bmw\n",
      "lamborgini\n"
     ]
    }
   ],
   "source": [
    "for x in car:\n",
    "    if x == \"ferrari\":\n",
    "        continue\n",
    "    print(x)"
   ]
  },
  {
   "cell_type": "code",
   "execution_count": null,
   "id": "8f935bed",
   "metadata": {},
   "outputs": [],
   "source": []
  },
  {
   "cell_type": "code",
   "execution_count": null,
   "id": "56e82b4b",
   "metadata": {},
   "outputs": [],
   "source": []
  },
  {
   "cell_type": "code",
   "execution_count": null,
   "id": "26f20245",
   "metadata": {},
   "outputs": [],
   "source": []
  },
  {
   "cell_type": "code",
   "execution_count": null,
   "id": "3f2497a4",
   "metadata": {},
   "outputs": [],
   "source": []
  },
  {
   "cell_type": "markdown",
   "id": "a3109220",
   "metadata": {},
   "source": [
    "---\n",
    "### Nested for-loop\n",
    "---"
   ]
  },
  {
   "cell_type": "code",
   "execution_count": 57,
   "id": "f1605900",
   "metadata": {},
   "outputs": [
    {
     "name": "stdout",
     "output_type": "stream",
     "text": [
      "red apple\n",
      "red banana\n",
      "red cherry\n",
      "big apple\n",
      "big banana\n",
      "big cherry\n",
      "tasty apple\n",
      "tasty banana\n",
      "tasty cherry\n"
     ]
    }
   ],
   "source": [
    "adj = [\"red\", \"big\", \"tasty\"]\n",
    "fruits = [\"apple\", \"banana\", \"cherry\"]\n",
    "\n",
    "for x in adj:\n",
    "      for y in fruits:\n",
    "            print(x, y)\n",
    "    \n",
    "    "
   ]
  },
  {
   "cell_type": "markdown",
   "id": "3495c757",
   "metadata": {},
   "source": [
    "---\n",
    "#### Exercise\n",
    "---"
   ]
  },
  {
   "cell_type": "code",
   "execution_count": 58,
   "id": "7a5a3ea6",
   "metadata": {},
   "outputs": [
    {
     "name": "stdout",
     "output_type": "stream",
     "text": [
      "orange\n",
      "cherry\n",
      "mango\n",
      "strawberry\n"
     ]
    }
   ],
   "source": [
    "fruits = [\"banana\", \"orange\", \"cherry\", \"mango\", \"strawberry\"]\n",
    "for - in fruits:\n",
    "    if i == \"banana\":\n",
    "        -\n",
    "    print(i)\n"
   ]
  },
  {
   "cell_type": "code",
   "execution_count": 60,
   "id": "1bfe9a0c",
   "metadata": {},
   "outputs": [
    {
     "name": "stdout",
     "output_type": "stream",
     "text": [
      "banana\n",
      "orange\n",
      "cherry\n"
     ]
    }
   ],
   "source": [
    "for i in fruits:\n",
    "    -\n",
    "    if i == \"cherry\":\n",
    "        break\n",
    "    "
   ]
  },
  {
   "cell_type": "code",
   "execution_count": 61,
   "id": "9fdac43c",
   "metadata": {},
   "outputs": [
    {
     "name": "stdout",
     "output_type": "stream",
     "text": [
      "banana\n",
      "orange\n"
     ]
    }
   ],
   "source": [
    "for i in fruits:\n",
    "    if i == \"cherry\":\n",
    "        break\n",
    "    -\n",
    "    "
   ]
  },
  {
   "cell_type": "code",
   "execution_count": null,
   "id": "3f69c678",
   "metadata": {},
   "outputs": [],
   "source": []
  }
 ],
 "metadata": {
  "kernelspec": {
   "display_name": "Python 3 (ipykernel)",
   "language": "python",
   "name": "python3"
  },
  "language_info": {
   "codemirror_mode": {
    "name": "ipython",
    "version": 3
   },
   "file_extension": ".py",
   "mimetype": "text/x-python",
   "name": "python",
   "nbconvert_exporter": "python",
   "pygments_lexer": "ipython3",
   "version": "3.9.12"
  }
 },
 "nbformat": 4,
 "nbformat_minor": 5
}
