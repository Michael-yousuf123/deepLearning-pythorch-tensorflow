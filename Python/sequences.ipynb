{
 "cells": [
  {
   "cell_type": "markdown",
   "id": "0d1ffbbc",
   "metadata": {},
   "source": [
    "### Tuples, Lists and Dictionaries\n",
    "---\n",
    "      We can use a tuple for storing a fixed list of elements, a set for storing and quickly\n",
    "      accessing nonduplicate elements, and a dictionary for storing key/value pairs and for\n",
    "      accessing elements quickly using the keys.\n",
    "--- "
   ]
  },
  {
   "cell_type": "markdown",
   "id": "bb182e8c",
   "metadata": {},
   "source": [
    "#### Tuples\n",
    "---\n",
    "      Tuples are like lists, but their elements are fixed; that is, once a tuple is created, you\n",
    "      cannot add new elements, delete elements, replace elements, or reorder the elements in\n",
    "      the tuple."
   ]
  },
  {
   "cell_type": "code",
   "execution_count": 1,
   "id": "c4ce3883",
   "metadata": {},
   "outputs": [],
   "source": [
    "# tuples are created by using the parenthesis or round bracket\n",
    "# you can instantiate the tuples with empty bracket and then \n",
    "# create a list of tuples \n",
    "\n",
    "t = () # create an empty list"
   ]
  },
  {
   "cell_type": "code",
   "execution_count": 2,
   "id": "fc6de9b3",
   "metadata": {},
   "outputs": [],
   "source": [
    "t1 = (1, 2, 3) # create a tuple with three elements"
   ]
  },
  {
   "cell_type": "code",
   "execution_count": 3,
   "id": "0cfafbd9",
   "metadata": {},
   "outputs": [
    {
     "name": "stdout",
     "output_type": "stream",
     "text": [
      "(1, 2, 3, 4, 5)\n"
     ]
    }
   ],
   "source": [
    "t3 = tuple([x for x in range(1, 6)]) # create a tuple from list\n",
    "print(t3)"
   ]
  },
  {
   "cell_type": "code",
   "execution_count": 4,
   "id": "df8cecfe",
   "metadata": {},
   "outputs": [
    {
     "name": "stdout",
     "output_type": "stream",
     "text": [
      "('a', 'b', 'c', 'd', 'e')\n"
     ]
    }
   ],
   "source": [
    "t4 = tuple(\"abcde\") # create a tuple from a string\n",
    "print(t4)"
   ]
  },
  {
   "cell_type": "code",
   "execution_count": 5,
   "id": "17100758",
   "metadata": {},
   "outputs": [
    {
     "name": "stdout",
     "output_type": "stream",
     "text": [
      "('Python', 'Python', 'Javascrip', 'R')\n",
      "4\n",
      "('Python', 4, True)\n"
     ]
    }
   ],
   "source": [
    "tup1 = (\"Python\", \"Python\", \"Javascrip\", \"R\") # it allow duplicate elements\n",
    "print(tup1)\n",
    "print(len(tup1)) # to know the length of tuple\n",
    "tup2 = (\"Python\", 4, True) # accept any data type elements\n",
    "print(tup2)"
   ]
  },
  {
   "cell_type": "markdown",
   "id": "27012d43",
   "metadata": {},
   "source": [
    "---\n",
    "#### Accessing Tuple elements\n",
    "---"
   ]
  },
  {
   "cell_type": "code",
   "execution_count": 6,
   "id": "c80361e7",
   "metadata": {},
   "outputs": [
    {
     "name": "stdout",
     "output_type": "stream",
     "text": [
      "Cherry\n",
      "Mouse\n",
      "('Banana', 'Cherry', 'Orange', 'Pineapple')\n",
      "('PC', 'Mouse')\n",
      "('Orange', 'Pineapple', 'PC', 'Mouse')\n"
     ]
    }
   ],
   "source": [
    "# we can use an [index] to access the elements of tuples\n",
    "tup3 = (\"Banana\", \"Cherry\", \"Orange\", \"Pineapple\", \"PC\", \"Mouse\")\n",
    "print(tup3[1]) # to access the first index\n",
    "print(tup3[-1]) # to access the last index\n",
    "print(tup3[:4]) # to access the first four index\n",
    "print(tup3[4:6]) # to access the last two index\n",
    "print(tup3[-4:]) # to access the last four elements"
   ]
  },
  {
   "cell_type": "code",
   "execution_count": 7,
   "id": "02c31cf7",
   "metadata": {},
   "outputs": [
    {
     "name": "stdout",
     "output_type": "stream",
     "text": [
      "Yes Banana exist in the tuple\n"
     ]
    }
   ],
   "source": [
    "# to check if item of interest exists in tuple we use\n",
    "if \"Banana\" in tup3:\n",
    "    print(\"Yes\", tup3[0], \"exist in the tuple\")"
   ]
  },
  {
   "cell_type": "markdown",
   "id": "34e9ee25",
   "metadata": {},
   "source": [
    "---\n",
    "#### Update Tuples\n",
    "---"
   ]
  },
  {
   "cell_type": "code",
   "execution_count": 8,
   "id": "30ccaf5d",
   "metadata": {},
   "outputs": [
    {
     "name": "stdout",
     "output_type": "stream",
     "text": [
      "['Banana', 'Coffee', 'Tea']\n",
      "['Banana', 'Car', 'Tea']\n",
      "('Banana', 'Car', 'Tea')\n"
     ]
    }
   ],
   "source": [
    "# tuples created cannot be updated or changed but the workaround to add item to is\n",
    "# to change into a list and then update and finally convert to tuple by using the tuple() function\n",
    "\n",
    "tup4 = (\"Banana\", \"Coffee\", \"Tea\") # if we wanna change the items in index 1\n",
    "y = list(tup4)\n",
    "print(y)\n",
    "y[1] = 'Car'\n",
    "print(y)\n",
    "x = tuple(y)\n",
    "print(x)"
   ]
  },
  {
   "cell_type": "code",
   "execution_count": 9,
   "id": "fca558f8",
   "metadata": {},
   "outputs": [
    {
     "name": "stdout",
     "output_type": "stream",
     "text": [
      "['Banana', 'Car', 'Tea']\n",
      "['Banana', 'Car', 'Tea', 'Dog']\n",
      "('Banana', 'Car', 'Tea', 'Dog')\n"
     ]
    }
   ],
   "source": [
    "# to add items to it the work is similar to change\n",
    "z = list(x) # change into list\n",
    "print(z)\n",
    "z.append('Dog') # add element into a list\n",
    "print(z)\n",
    "v = tuple(z) # convert list into tuple\n",
    "print(v)"
   ]
  },
  {
   "cell_type": "code",
   "execution_count": 10,
   "id": "3ffad431",
   "metadata": {},
   "outputs": [
    {
     "name": "stdout",
     "output_type": "stream",
     "text": [
      "['Banana', 'Car', 'Tea', 'Dog']\n",
      "['Banana', 'Tea', 'Dog']\n",
      "('Banana', 'Tea', 'Dog')\n"
     ]
    }
   ],
   "source": [
    "# to remove item from the tuple\n",
    "f = list(v)\n",
    "print(f)\n",
    "f.remove('Car')\n",
    "print(f)\n",
    "d = tuple(f)\n",
    "print(d)"
   ]
  },
  {
   "cell_type": "code",
   "execution_count": 11,
   "id": "4a9b692e",
   "metadata": {},
   "outputs": [
    {
     "ename": "NameError",
     "evalue": "name 'f' is not defined",
     "output_type": "error",
     "traceback": [
      "\u001b[0;31m---------------------------------------------------------------------------\u001b[0m",
      "\u001b[0;31mNameError\u001b[0m                                 Traceback (most recent call last)",
      "Input \u001b[0;32mIn [11]\u001b[0m, in \u001b[0;36m<cell line: 3>\u001b[0;34m()\u001b[0m\n\u001b[1;32m      1\u001b[0m \u001b[38;5;66;03m# to delete the tuple \u001b[39;00m\n\u001b[1;32m      2\u001b[0m \u001b[38;5;28;01mdel\u001b[39;00m f\n\u001b[0;32m----> 3\u001b[0m \u001b[38;5;28mprint\u001b[39m(\u001b[43mf\u001b[49m)\n",
      "\u001b[0;31mNameError\u001b[0m: name 'f' is not defined"
     ]
    }
   ],
   "source": [
    "# to delete the tuple \n",
    "del f\n",
    "print(f)"
   ]
  },
  {
   "cell_type": "markdown",
   "id": "e92920e5",
   "metadata": {},
   "source": [
    "---\n",
    "#### Unpack Tuple\n",
    "---"
   ]
  },
  {
   "cell_type": "code",
   "execution_count": 12,
   "id": "8b2302cc",
   "metadata": {},
   "outputs": [
    {
     "name": "stdout",
     "output_type": "stream",
     "text": [
      "Banana\n",
      "Tea\n",
      "Dog\n"
     ]
    }
   ],
   "source": [
    "(x, y, z) = d\n",
    "print(x)\n",
    "print(y)\n",
    "print(z)"
   ]
  },
  {
   "cell_type": "code",
   "execution_count": 13,
   "id": "e0446140",
   "metadata": {},
   "outputs": [
    {
     "name": "stdout",
     "output_type": "stream",
     "text": [
      "Banana\n",
      "['Car', 'Tea']\n",
      "Dog\n"
     ]
    }
   ],
   "source": [
    "(x, *y, z) = v # if you have several items to unpack\n",
    "print(x)\n",
    "print(y)\n",
    "print(z)"
   ]
  },
  {
   "cell_type": "markdown",
   "id": "6b2f4413",
   "metadata": {},
   "source": [
    "---\n",
    "#### Loops over Tuples\n",
    "---"
   ]
  },
  {
   "cell_type": "code",
   "execution_count": 14,
   "id": "528f6c20",
   "metadata": {},
   "outputs": [
    {
     "name": "stdout",
     "output_type": "stream",
     "text": [
      "car bike bicycle horse mule "
     ]
    }
   ],
   "source": [
    "g = (\"car\", \"bike\", \"bicycle\", \"horse\", \"mule\")\n",
    "for i in range(len(g)):\n",
    "    print(g[i], end = \" \") # loop through the tuple items by refering their index"
   ]
  },
  {
   "cell_type": "code",
   "execution_count": 15,
   "id": "aa7aa858",
   "metadata": {},
   "outputs": [
    {
     "name": "stdout",
     "output_type": "stream",
     "text": [
      "car bike bicycle horse mule "
     ]
    }
   ],
   "source": [
    "for x in g:\n",
    "    print(x, end = \" \") "
   ]
  },
  {
   "cell_type": "code",
   "execution_count": 16,
   "id": "c0d35038",
   "metadata": {},
   "outputs": [
    {
     "name": "stdout",
     "output_type": "stream",
     "text": [
      "car bike bicycle horse mule "
     ]
    }
   ],
   "source": [
    "i = 0\n",
    "while i < (len(g)):\n",
    "    print(g[i], end = \" \")\n",
    "    i = i +  1"
   ]
  },
  {
   "cell_type": "code",
   "execution_count": 17,
   "id": "7c00aaa6",
   "metadata": {},
   "outputs": [
    {
     "name": "stdout",
     "output_type": "stream",
     "text": [
      "('car', 'bike', 'bicycle', 'horse', 'mule', 'Banana', 'Tea', 'Dog')\n"
     ]
    }
   ],
   "source": [
    "# join tuples\n",
    "h = g + d\n",
    "print(h)"
   ]
  },
  {
   "cell_type": "code",
   "execution_count": 18,
   "id": "a111efa1",
   "metadata": {},
   "outputs": [
    {
     "name": "stdout",
     "output_type": "stream",
     "text": [
      "3\n"
     ]
    }
   ],
   "source": [
    "j = ('red', 'red', 'red') # count method for tuple\n",
    "x = j.count('red')\n",
    "print(x)"
   ]
  },
  {
   "cell_type": "markdown",
   "id": "d205daa5",
   "metadata": {},
   "source": [
    "---\n",
    "### Sets\n",
    "    - Created to store multiple items in a single variable\n",
    "    - Unordered, Unindexed and Unchengable\n",
    "    - Created by using curly {} brackets\n",
    "---"
   ]
  },
  {
   "cell_type": "code",
   "execution_count": 19,
   "id": "42167cc1",
   "metadata": {},
   "outputs": [
    {
     "name": "stdout",
     "output_type": "stream",
     "text": [
      "{'orange', True, 'banana', 'biscuits'}\n"
     ]
    }
   ],
   "source": [
    "# the set list is unordered, meaning: the items will appear in a random order\n",
    "my_set = {\"banana\", \"orange\", \"biscuits\", \"orange\", True, 1} # duplicates are not allowed unlike tuples\n",
    "print(my_set) # it consider 1 and True are the same, the same for False and 0"
   ]
  },
  {
   "cell_type": "code",
   "execution_count": 20,
   "id": "0f20b40c",
   "metadata": {},
   "outputs": [
    {
     "name": "stdout",
     "output_type": "stream",
     "text": [
      "orange True banana biscuits "
     ]
    }
   ],
   "source": [
    "for x in my_set: # to access the items in set\n",
    "    print(x, end = \" \")"
   ]
  },
  {
   "cell_type": "code",
   "execution_count": 21,
   "id": "65d63a98",
   "metadata": {},
   "outputs": [
    {
     "ename": "TypeError",
     "evalue": "'set' object is not subscriptable",
     "output_type": "error",
     "traceback": [
      "\u001b[0;31m---------------------------------------------------------------------------\u001b[0m",
      "\u001b[0;31mTypeError\u001b[0m                                 Traceback (most recent call last)",
      "Input \u001b[0;32mIn [21]\u001b[0m, in \u001b[0;36m<cell line: 1>\u001b[0;34m()\u001b[0m\n\u001b[1;32m      1\u001b[0m \u001b[38;5;28;01mfor\u001b[39;00m i \u001b[38;5;129;01min\u001b[39;00m my_set:\n\u001b[0;32m----> 2\u001b[0m     \u001b[38;5;28mprint\u001b[39m(\u001b[43mmy_set\u001b[49m\u001b[43m[\u001b[49m\u001b[43mi\u001b[49m\u001b[43m]\u001b[49m)\n",
      "\u001b[0;31mTypeError\u001b[0m: 'set' object is not subscriptable"
     ]
    }
   ],
   "source": [
    "for i in my_set:\n",
    "    print(my_set[i]) # raise TypeError as its not an indexed object"
   ]
  },
  {
   "cell_type": "code",
   "execution_count": 22,
   "id": "407b4dc9",
   "metadata": {},
   "outputs": [
    {
     "name": "stdout",
     "output_type": "stream",
     "text": [
      "{'orange', True, 'biscuits', 'banana', 'Computer'}\n"
     ]
    }
   ],
   "source": [
    "# you cannot change items but you can add by using add() method\n",
    "my_set.add('Computer') \n",
    "print(my_set)"
   ]
  },
  {
   "cell_type": "code",
   "execution_count": 23,
   "id": "95ff03a5",
   "metadata": {},
   "outputs": [
    {
     "name": "stdout",
     "output_type": "stream",
     "text": [
      "{'orange', True, 'biscuits', 'Youtube', 'banana', 'Computer', 'LinkedIn', 'Facebook'}\n"
     ]
    }
   ],
   "source": [
    "this_set = {'Youtube', \"LinkedIn\", \"Facebook\"} # update the set\n",
    "my_set.update(this_set)\n",
    "print(my_set)"
   ]
  },
  {
   "cell_type": "code",
   "execution_count": 24,
   "id": "a92a924b",
   "metadata": {},
   "outputs": [
    {
     "name": "stdout",
     "output_type": "stream",
     "text": [
      "{'orange', True, 'biscuits', 'fruit', 'Youtube', 'banana', 'Computer', 'LinkedIn', 'Facebook'}\n"
     ]
    }
   ],
   "source": [
    "lists = [1, \"fruit\"]\n",
    "my_set.update(lists)\n",
    "print(my_set)"
   ]
  },
  {
   "cell_type": "code",
   "execution_count": 25,
   "id": "4e879fbd",
   "metadata": {},
   "outputs": [
    {
     "name": "stdout",
     "output_type": "stream",
     "text": [
      "{'orange', True, 'biscuits', 'fruit', 'Youtube', 'banana', 'Computer', 'LinkedIn'}\n"
     ]
    }
   ],
   "source": [
    "my_set.remove('Facebook') # to remove item from set\n",
    "print(my_set)"
   ]
  },
  {
   "cell_type": "code",
   "execution_count": 26,
   "id": "3da3461b",
   "metadata": {},
   "outputs": [
    {
     "name": "stdout",
     "output_type": "stream",
     "text": [
      "{'orange', True, 'biscuits', 'fruit', 'Youtube', 'banana', 'Computer', 'LinkedIn'}\n"
     ]
    }
   ],
   "source": [
    "my_set.discard('Tiktok')\n",
    "print(my_set)"
   ]
  },
  {
   "cell_type": "code",
   "execution_count": 27,
   "id": "8321e2f7",
   "metadata": {},
   "outputs": [
    {
     "ename": "NameError",
     "evalue": "name 'this_set' is not defined",
     "output_type": "error",
     "traceback": [
      "\u001b[0;31m---------------------------------------------------------------------------\u001b[0m",
      "\u001b[0;31mNameError\u001b[0m                                 Traceback (most recent call last)",
      "Input \u001b[0;32mIn [27]\u001b[0m, in \u001b[0;36m<cell line: 2>\u001b[0;34m()\u001b[0m\n\u001b[1;32m      1\u001b[0m \u001b[38;5;28;01mdel\u001b[39;00m this_set \u001b[38;5;66;03m# to delete the set\u001b[39;00m\n\u001b[0;32m----> 2\u001b[0m \u001b[38;5;28mprint\u001b[39m(\u001b[43mthis_set\u001b[49m)\n",
      "\u001b[0;31mNameError\u001b[0m: name 'this_set' is not defined"
     ]
    }
   ],
   "source": [
    "del this_set # to delete the set\n",
    "print(this_set)"
   ]
  },
  {
   "cell_type": "markdown",
   "id": "924cb0e0",
   "metadata": {},
   "source": [
    "---\n",
    "#### Dictionaries\n",
    "    - Dictionaries are used to store data values in key:value pairs.\n",
    "    - A dictionary is a collection which is ordered, changeable and do not allow duplicates.\n",
    "---"
   ]
  },
  {
   "cell_type": "code",
   "execution_count": 28,
   "id": "0cad209a",
   "metadata": {},
   "outputs": [
    {
     "name": "stdout",
     "output_type": "stream",
     "text": [
      "{}\n"
     ]
    }
   ],
   "source": [
    "employee = {} # creates an empty dictionary\n",
    "print(employee)"
   ]
  },
  {
   "cell_type": "markdown",
   "id": "2d9e1558",
   "metadata": {},
   "source": [
    "---\n",
    "#### Adding, Retrieving and Modifying Dictionary values"
   ]
  },
  {
   "cell_type": "code",
   "execution_count": 29,
   "id": "ec54ca49",
   "metadata": {},
   "outputs": [
    {
     "name": "stdout",
     "output_type": "stream",
     "text": [
      "{'2023': 'Michael', '2024': 'Ramakrishna'}\n"
     ]
    }
   ],
   "source": [
    "employee['2023'] = \"Michael\" # to create the dictionary\n",
    "employee['2024'] = \"Ramakrishna\"\n",
    "print(employee)"
   ]
  },
  {
   "cell_type": "code",
   "execution_count": 30,
   "id": "12022766",
   "metadata": {},
   "outputs": [
    {
     "data": {
      "text/plain": [
       "'Michael'"
      ]
     },
     "execution_count": 30,
     "metadata": {},
     "output_type": "execute_result"
    }
   ],
   "source": [
    "employee['2023'] # to retrieve the value for the key"
   ]
  },
  {
   "cell_type": "code",
   "execution_count": 31,
   "id": "03ea2274",
   "metadata": {},
   "outputs": [],
   "source": [
    "employee['2023'] = \"Michael Yousuf\" # to modeify the value for the key \"2023\""
   ]
  },
  {
   "cell_type": "code",
   "execution_count": 32,
   "id": "50da3808",
   "metadata": {},
   "outputs": [
    {
     "data": {
      "text/plain": [
       "{'2023': 'Michael Yousuf', '2024': 'Ramakrishna'}"
      ]
     },
     "execution_count": 32,
     "metadata": {},
     "output_type": "execute_result"
    }
   ],
   "source": [
    "employee"
   ]
  },
  {
   "cell_type": "code",
   "execution_count": 33,
   "id": "1d98f456",
   "metadata": {},
   "outputs": [
    {
     "name": "stdout",
     "output_type": "stream",
     "text": [
      "{'2024': 'Ramakrishna'}\n"
     ]
    }
   ],
   "source": [
    "# to delete items from dictionary\n",
    "del employee['2023']\n",
    "print(employee)"
   ]
  },
  {
   "cell_type": "code",
   "execution_count": 34,
   "id": "b770b6c9",
   "metadata": {},
   "outputs": [
    {
     "data": {
      "text/plain": [
       "{'2024': 'Ramakrishna'}"
      ]
     },
     "execution_count": 34,
     "metadata": {},
     "output_type": "execute_result"
    }
   ],
   "source": [
    "employee"
   ]
  },
  {
   "cell_type": "code",
   "execution_count": 35,
   "id": "8882057f",
   "metadata": {},
   "outputs": [
    {
     "data": {
      "text/plain": [
       "{'2024': 'Ramakrishna', '3455': 'John Doe', '4422': 'Susan'}"
      ]
     },
     "execution_count": 35,
     "metadata": {},
     "output_type": "execute_result"
    }
   ],
   "source": [
    "employee['3455'] = \"John Doe\"\n",
    "employee['4422'] = \"Susan\"\n",
    "employee"
   ]
  },
  {
   "cell_type": "code",
   "execution_count": 36,
   "id": "8ee42c51",
   "metadata": {},
   "outputs": [
    {
     "name": "stdout",
     "output_type": "stream",
     "text": [
      "2024:Ramakrishna 3455:John Doe 4422:Susan "
     ]
    }
   ],
   "source": [
    "for key in employee: # looping ov\n",
    "    print(key +\":\"+ str(employee[key]), end= \" \")"
   ]
  },
  {
   "cell_type": "code",
   "execution_count": 37,
   "id": "bd93bebd",
   "metadata": {},
   "outputs": [
    {
     "data": {
      "text/plain": [
       "3"
      ]
     },
     "execution_count": 37,
     "metadata": {},
     "output_type": "execute_result"
    }
   ],
   "source": [
    "# you can find the number of items in dictionary by using len() function\n",
    "len(employee)"
   ]
  },
  {
   "cell_type": "code",
   "execution_count": 38,
   "id": "2350b130",
   "metadata": {},
   "outputs": [
    {
     "data": {
      "text/plain": [
       "True"
      ]
     },
     "execution_count": 38,
     "metadata": {},
     "output_type": "execute_result"
    }
   ],
   "source": [
    "# you can use to test wether a key is in a dictionary or not by using of\n",
    "\"2024\" in employee"
   ]
  },
  {
   "cell_type": "code",
   "execution_count": 39,
   "id": "5f3ebe63",
   "metadata": {},
   "outputs": [],
   "source": [
    "# create two new dictionaries\n",
    "d1 = {'blue':203, \"red\": 43}\n",
    "d2 = {'blue':32, \"red\": 54}"
   ]
  },
  {
   "cell_type": "code",
   "execution_count": 41,
   "id": "ff31e146",
   "metadata": {},
   "outputs": [
    {
     "data": {
      "text/plain": [
       "False"
      ]
     },
     "execution_count": 41,
     "metadata": {},
     "output_type": "execute_result"
    }
   ],
   "source": [
    "# the equality test between two dictionaries will be done with \"==\" or \"!=\"\n",
    "d1 == d2\n",
    "#d1 != d2"
   ]
  },
  {
   "cell_type": "markdown",
   "id": "ac67c0c4",
   "metadata": {},
   "source": [
    "---\n",
    "#### Methods in Dictionary\n",
    "---"
   ]
  },
  {
   "cell_type": "code",
   "execution_count": 43,
   "id": "92b27303",
   "metadata": {},
   "outputs": [
    {
     "data": {
      "text/plain": [
       "('blue', 'red')"
      ]
     },
     "execution_count": 43,
     "metadata": {},
     "output_type": "execute_result"
    }
   ],
   "source": [
    "tuple(d2.keys()) # returns a sequence of keys"
   ]
  },
  {
   "cell_type": "code",
   "execution_count": 44,
   "id": "9bb0470f",
   "metadata": {},
   "outputs": [
    {
     "data": {
      "text/plain": [
       "(32, 54)"
      ]
     },
     "execution_count": 44,
     "metadata": {},
     "output_type": "execute_result"
    }
   ],
   "source": [
    "tuple(d2.values()) # returns a sequence of values"
   ]
  },
  {
   "cell_type": "code",
   "execution_count": 45,
   "id": "ee6dd7d3",
   "metadata": {},
   "outputs": [
    {
     "data": {
      "text/plain": [
       "(('blue', 32), ('red', 54))"
      ]
     },
     "execution_count": 45,
     "metadata": {},
     "output_type": "execute_result"
    }
   ],
   "source": [
    "tuple(d2.items()) # returns a sequence of tuple for key value pairs"
   ]
  },
  {
   "cell_type": "code",
   "execution_count": 46,
   "id": "4a5b1041",
   "metadata": {},
   "outputs": [
    {
     "data": {
      "text/plain": [
       "32"
      ]
     },
     "execution_count": 46,
     "metadata": {},
     "output_type": "execute_result"
    }
   ],
   "source": [
    "d2.get(\"blue\") # returns the value of key"
   ]
  },
  {
   "cell_type": "code",
   "execution_count": 47,
   "id": "7492ccf3",
   "metadata": {},
   "outputs": [
    {
     "data": {
      "text/plain": [
       "32"
      ]
     },
     "execution_count": 47,
     "metadata": {},
     "output_type": "execute_result"
    }
   ],
   "source": [
    "d2.pop('blue') # removes the key and returns its value"
   ]
  },
  {
   "cell_type": "code",
   "execution_count": 48,
   "id": "ee1da55b",
   "metadata": {},
   "outputs": [
    {
     "data": {
      "text/plain": [
       "{'red': 54}"
      ]
     },
     "execution_count": 48,
     "metadata": {},
     "output_type": "execute_result"
    }
   ],
   "source": [
    "d2 "
   ]
  },
  {
   "cell_type": "code",
   "execution_count": 49,
   "id": "69bca698",
   "metadata": {},
   "outputs": [],
   "source": [
    "d2.clear() # clears the dictionary fromm all items"
   ]
  },
  {
   "cell_type": "code",
   "execution_count": 50,
   "id": "260df902",
   "metadata": {},
   "outputs": [
    {
     "data": {
      "text/plain": [
       "{}"
      ]
     },
     "execution_count": 50,
     "metadata": {},
     "output_type": "execute_result"
    }
   ],
   "source": [
    "d2"
   ]
  },
  {
   "cell_type": "markdown",
   "id": "3707b184",
   "metadata": {},
   "source": [
    "---\n",
    "#### Exercise\n",
    "---"
   ]
  },
  {
   "cell_type": "code",
   "execution_count": null,
   "id": "ac465dd9",
   "metadata": {},
   "outputs": [],
   "source": [
    "\n",
    "#How to create an empty dictionary"
   ]
  },
  {
   "cell_type": "code",
   "execution_count": 63,
   "id": "d31a8912",
   "metadata": {},
   "outputs": [],
   "source": [
    "#d3 = {1:[1, 2], 3:[3, 4]}\n",
    "#d5 = {(1, 2):1, (3, 4):3}\n",
    "#d6 = {1:\"john\", 3:\"peter\"}\n",
    "#d7 = {\"john\":1, \"peter\":3}"
   ]
  },
  {
   "cell_type": "code",
   "execution_count": 61,
   "id": "c47d4df8",
   "metadata": {},
   "outputs": [],
   "source": [
    "#Suppose a dictionary named students is {\"john\":3, \"peter\":2}. What do the\n",
    "#following statements do?\n",
    "\n",
    "students = {\"john\":3, \"peter\":2}\n",
    "#students[\"susan\"] = 5\n",
    "#students[\"peter\"] = 5\n",
    "#students[\"peter\"] += 5\n",
    "#del students[\"peter\"]"
   ]
  },
  {
   "cell_type": "code",
   "execution_count": 62,
   "id": "721b4d6a",
   "metadata": {},
   "outputs": [
    {
     "data": {
      "text/plain": [
       "{'john': 3, 'peter': 7}"
      ]
     },
     "execution_count": 62,
     "metadata": {},
     "output_type": "execute_result"
    }
   ],
   "source": [
    "students"
   ]
  },
  {
   "cell_type": "code",
   "execution_count": null,
   "id": "c6046940",
   "metadata": {},
   "outputs": [],
   "source": []
  }
 ],
 "metadata": {
  "kernelspec": {
   "display_name": "Python 3 (ipykernel)",
   "language": "python",
   "name": "python3"
  },
  "language_info": {
   "codemirror_mode": {
    "name": "ipython",
    "version": 3
   },
   "file_extension": ".py",
   "mimetype": "text/x-python",
   "name": "python",
   "nbconvert_exporter": "python",
   "pygments_lexer": "ipython3",
   "version": "3.9.12"
  }
 },
 "nbformat": 4,
 "nbformat_minor": 5
}
