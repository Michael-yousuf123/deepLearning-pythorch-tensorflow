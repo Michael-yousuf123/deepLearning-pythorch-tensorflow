{
 "cells": [
  {
   "cell_type": "markdown",
   "id": "873ecc57",
   "metadata": {},
   "source": [
    "---\n",
    "### Functions\n",
    "---\n",
    "   - A function is a block of code which only runs when it is called.\n",
    "\n",
    "   - You can pass data, known as parameters, into a function.\n",
    "\n",
    "   - A function can return data as a result."
   ]
  },
  {
   "cell_type": "code",
   "execution_count": 1,
   "id": "e5bc2784",
   "metadata": {},
   "outputs": [
    {
     "name": "stdout",
     "output_type": "stream",
     "text": [
      "Michael Yousuf\n"
     ]
    }
   ],
   "source": [
    "# a function is defined by using a keyword def()\n",
    "\n",
    "def my_name():\n",
    "    print(\"Michael Yousuf\")\n",
    "my_name()"
   ]
  },
  {
   "cell_type": "code",
   "execution_count": 2,
   "id": "77cbd2e7",
   "metadata": {},
   "outputs": [
    {
     "ename": "SyntaxError",
     "evalue": "invalid syntax (3252698152.py, line 1)",
     "output_type": "error",
     "traceback": [
      "\u001b[0;36m  Input \u001b[0;32mIn [2]\u001b[0;36m\u001b[0m\n\u001b[0;31m    def functionName(list of parameters)\u001b[0m\n\u001b[0m                          ^\u001b[0m\n\u001b[0;31mSyntaxError\u001b[0m\u001b[0;31m:\u001b[0m invalid syntax\n"
     ]
    }
   ],
   "source": [
    "def functionName(list of parameters)\n",
    "# Function body"
   ]
  },
  {
   "cell_type": "code",
   "execution_count": 3,
   "id": "5002d66f",
   "metadata": {},
   "outputs": [],
   "source": [
    "def maximum(num1, num2):\n",
    "    if num1 < num2:\n",
    "        result = num2\n",
    "    else:\n",
    "        result = num1\n",
    "    return result"
   ]
  },
  {
   "cell_type": "code",
   "execution_count": 4,
   "id": "83776542",
   "metadata": {},
   "outputs": [
    {
     "data": {
      "text/plain": [
       "2"
      ]
     },
     "execution_count": 4,
     "metadata": {},
     "output_type": "execute_result"
    }
   ],
   "source": [
    "maximum(1, 2)"
   ]
  },
  {
   "cell_type": "code",
   "execution_count": 14,
   "id": "a115bb09",
   "metadata": {},
   "outputs": [
    {
     "name": "stdout",
     "output_type": "stream",
     "text": [
      "Enter your Score: 87\n",
      "The Grade is, B\n"
     ]
    }
   ],
   "source": [
    "def grade(score): # function that do not return \n",
    "    if score >= 90:\n",
    "        print('A')\n",
    "    elif score >= 80:\n",
    "        print(\"B\")\n",
    "    elif score >= 70:\n",
    "        print(\"C\")\n",
    "    elif score >= 60:\n",
    "        print(\"D\")\n",
    "    else:\n",
    "        print(\"F\")\n",
    "if __name__ == '__main__':\n",
    "    score = eval(input(\"Enter your Score: \"))\n",
    "    print(\"The Grade is,\", end = \" \")\n",
    "    grade(score)\n",
    "   "
   ]
  },
  {
   "cell_type": "code",
   "execution_count": 15,
   "id": "f2aa918d",
   "metadata": {},
   "outputs": [
    {
     "name": "stdout",
     "output_type": "stream",
     "text": [
      "Enter your Score: 98\n",
      "The Grade is A\n"
     ]
    }
   ],
   "source": [
    "def grade(score): # function that have return\n",
    "    if score >= 90:\n",
    "        grade = \"A\"\n",
    "    elif score >= 80:\n",
    "        grade = \"B\"\n",
    "    elif score >= 70:\n",
    "        grade = \"C\"\n",
    "    elif score >= 60:\n",
    "        grade = \"D\"\n",
    "    else:\n",
    "        grade = \"F\"\n",
    "    return grade\n",
    "score = eval(input(\"Enter your Score: \"))\n",
    "print(\"The Grade is\", grade(score))"
   ]
  },
  {
   "cell_type": "markdown",
   "id": "293a00d4",
   "metadata": {},
   "source": [
    "---\n",
    "#### Arguments\n",
    "---\n",
    "***Information can be passed into functions as arguments.***\n",
    "***Arguments are specified after the function name, inside the parentheses. You can add as many arguments as you want, just separate them with a comma.***"
   ]
  },
  {
   "cell_type": "code",
   "execution_count": 21,
   "id": "db0941b7",
   "metadata": {},
   "outputs": [
    {
     "name": "stdout",
     "output_type": "stream",
     "text": [
      "MICHAEL\n"
     ]
    }
   ],
   "source": [
    "def print_name(names): # nameS is parameter\n",
    "    print(names)\n",
    "print_name(\"MICHAEL\") # when we call its argument"
   ]
  },
  {
   "cell_type": "code",
   "execution_count": 23,
   "id": "b68ff2b2",
   "metadata": {},
   "outputs": [
    {
     "name": "stdout",
     "output_type": "stream",
     "text": [
      "Michael Yousuf\n"
     ]
    }
   ],
   "source": [
    "def your_name(you, father):\n",
    "    print(you  + \" \" + father)\n",
    "your_name('Michael', 'Yousuf')"
   ]
  },
  {
   "cell_type": "code",
   "execution_count": 25,
   "id": "c4670a15",
   "metadata": {},
   "outputs": [
    {
     "name": "stdout",
     "output_type": "stream",
     "text": [
      "Your Best Employee of the Year is Yousuf\n"
     ]
    }
   ],
   "source": [
    "def employee(*empl): # If the number of arguments is unknown, add a * before the parameter name\n",
    "    print(\"Your Best Employee of the Year is\", empl[1])\n",
    "employee(\"Michael\", \"Yousuf\", \"Susan\")"
   ]
  },
  {
   "cell_type": "code",
   "execution_count": 26,
   "id": "69bc139c",
   "metadata": {},
   "outputs": [
    {
     "name": "stdout",
     "output_type": "stream",
     "text": [
      "My course is Python\n"
     ]
    }
   ],
   "source": [
    "# you can pass the argument as the keyword arguments **kwargs\n",
    "def my_course(**course):\n",
    "    print(\"My course is\", course['Programming'])\n",
    "my_course(Design= \"UI/UX\", Programming = \"Python\")"
   ]
  },
  {
   "cell_type": "code",
   "execution_count": 29,
   "id": "643a7799",
   "metadata": {},
   "outputs": [
    {
     "name": "stdout",
     "output_type": "stream",
     "text": [
      "My level of Programming is High\n",
      "My level of Programming is Low\n",
      "My level of Programming is Medium\n"
     ]
    }
   ],
   "source": [
    "def my_level(Programming = \"Low\"): # Default argument\n",
    "    print(\"My level of Programming is\", Programming)\n",
    "my_level(\"High\")\n",
    "my_level()\n",
    "my_level(\"Medium\")"
   ]
  },
  {
   "cell_type": "code",
   "execution_count": 32,
   "id": "277fb45b",
   "metadata": {},
   "outputs": [
    {
     "name": "stdout",
     "output_type": "stream",
     "text": [
      "biology history physics chemistry "
     ]
    }
   ],
   "source": [
    "def my_list(study): # you can pass any type of dataset and the function will as they are\n",
    "    for i in study:\n",
    "        print(i, end= \" \")\n",
    "learn = [\"biology\", \"history\", \"physics\", \"chemistry\"]\n",
    "my_list(learn)"
   ]
  },
  {
   "cell_type": "markdown",
   "id": "801d04d6",
   "metadata": {},
   "source": [
    "---\n",
    "#### Lambda\n",
    "---\n",
    "   - A lambda function is a small anonymous function.\n",
    "\n",
    "   - A lambda function can take any number of arguments, but can only have one expression."
   ]
  },
  {
   "cell_type": "code",
   "execution_count": 33,
   "id": "3f4de9bd",
   "metadata": {},
   "outputs": [
    {
     "name": "stdout",
     "output_type": "stream",
     "text": [
      "79\n"
     ]
    }
   ],
   "source": [
    "x = lambda a: a +34\n",
    "print(x(45))"
   ]
  },
  {
   "cell_type": "code",
   "execution_count": 34,
   "id": "63af8d6c",
   "metadata": {},
   "outputs": [
    {
     "name": "stdout",
     "output_type": "stream",
     "text": [
      "1600\n"
     ]
    }
   ],
   "source": [
    "x = lambda a: a*a\n",
    "print(x(40))"
   ]
  },
  {
   "cell_type": "code",
   "execution_count": null,
   "id": "4f4cd4ca",
   "metadata": {},
   "outputs": [],
   "source": []
  }
 ],
 "metadata": {
  "kernelspec": {
   "display_name": "Python 3 (ipykernel)",
   "language": "python",
   "name": "python3"
  },
  "language_info": {
   "codemirror_mode": {
    "name": "ipython",
    "version": 3
   },
   "file_extension": ".py",
   "mimetype": "text/x-python",
   "name": "python",
   "nbconvert_exporter": "python",
   "pygments_lexer": "ipython3",
   "version": "3.9.12"
  }
 },
 "nbformat": 4,
 "nbformat_minor": 5
}
