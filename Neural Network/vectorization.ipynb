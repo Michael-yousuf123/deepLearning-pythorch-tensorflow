{
 "cells": [
  {
   "cell_type": "markdown",
   "id": "7dc53efe-5c93-458f-a5be-7c156160630d",
   "metadata": {},
   "source": [
    "---\n",
    "### **1. Vectorization**\n",
    "---\n",
    "#### ***1.1. Vector Product***"
   ]
  },
  {
   "cell_type": "code",
   "execution_count": 1,
   "id": "bed90568-1c2d-4ae0-8a77-651aabe4ade9",
   "metadata": {},
   "outputs": [],
   "source": [
    "import numpy as np"
   ]
  },
  {
   "cell_type": "code",
   "execution_count": 2,
   "id": "f5272dee-5e94-4f33-a49c-7cfa8af2e52b",
   "metadata": {},
   "outputs": [],
   "source": [
    "l = [1,5,6,2] # list"
   ]
  },
  {
   "cell_type": "code",
   "execution_count": 3,
   "id": "001396bf-a707-4028-9cdf-c1fede141cb6",
   "metadata": {},
   "outputs": [],
   "source": [
    "lol = [[1,5,6,2], # list of lists\n",
    "        [3,2,1,3]]"
   ]
  },
  {
   "cell_type": "code",
   "execution_count": 4,
   "id": "0d06cc04-36ab-416c-aaab-937bb92876ed",
   "metadata": {},
   "outputs": [],
   "source": [
    "lolol = [[[1,5,6,2], # list of lists of lists\n",
    "        [3,2,1,3]],\n",
    "        [[5,2,1,2],\n",
    "        [6,4,8,4]],\n",
    "        [[2,8,5,3],\n",
    "        [1,1,9,4]]]"
   ]
  },
  {
   "cell_type": "code",
   "execution_count": 5,
   "id": "a42a7afd-7907-45b2-a601-f6ad2e002b14",
   "metadata": {},
   "outputs": [],
   "source": [
    "lols = [[4,2,3], # this is not an array but list of lists as it is not a homologous list with equal dimension\n",
    "        [5,1]]"
   ]
  },
  {
   "cell_type": "code",
   "execution_count": 18,
   "id": "97459570-709d-40e4-8b85-4ea80bf9cfe6",
   "metadata": {},
   "outputs": [
    {
     "data": {
      "text/plain": [
       "2"
      ]
     },
     "execution_count": 18,
     "metadata": {},
     "output_type": "execute_result"
    }
   ],
   "source": [
    "len(lols[1])"
   ]
  },
  {
   "cell_type": "code",
   "execution_count": 11,
   "id": "1fbfcef2-5563-498a-a6dc-7bc1d9248143",
   "metadata": {},
   "outputs": [
    {
     "name": "stdout",
     "output_type": "stream",
     "text": [
      "2\n"
     ]
    }
   ],
   "source": [
    "l = [[[3,2], [4,5]],[[3,4],[2,3]]]\n",
    "print(len(l[1]))"
   ]
  },
  {
   "cell_type": "code",
   "execution_count": 19,
   "id": "c5491bde-a8af-486b-ad3c-f7921ff91c23",
   "metadata": {},
   "outputs": [
    {
     "name": "stdout",
     "output_type": "stream",
     "text": [
      "3\n"
     ]
    }
   ],
   "source": [
    "li_matrix = [[4,2], \n",
    "             [5,1], \n",
    "             [8,2]]\n",
    "print(len(li_matrix))"
   ]
  },
  {
   "cell_type": "code",
   "execution_count": 22,
   "id": "3f65624a-9757-4a14-a108-9b343b8ef313",
   "metadata": {},
   "outputs": [
    {
     "name": "stdout",
     "output_type": "stream",
     "text": [
      "(3, 2)\n"
     ]
    }
   ],
   "source": [
    "x = np.array(li_matrix)\n",
    "print(x.shape)"
   ]
  },
  {
   "cell_type": "code",
   "execution_count": 32,
   "id": "c1b7a229-ae82-4b92-8e97-87e85480ff94",
   "metadata": {},
   "outputs": [
    {
     "name": "stdout",
     "output_type": "stream",
     "text": [
      "3\n",
      "2\n",
      "4\n"
     ]
    }
   ],
   "source": [
    "print(len(lolol))\n",
    "print(len(lolol[0]))\n",
    "print(len(lolol[2][1]))"
   ]
  },
  {
   "cell_type": "code",
   "execution_count": 26,
   "id": "e9375b1d-d188-4192-84c9-54597f26398e",
   "metadata": {},
   "outputs": [
    {
     "name": "stdout",
     "output_type": "stream",
     "text": [
      "(3, 2, 4)\n"
     ]
    }
   ],
   "source": [
    "arr = np.array(lolol) # 3D array\n",
    "print(arr.shape)"
   ]
  },
  {
   "cell_type": "code",
   "execution_count": 33,
   "id": "bed36168-126d-4ed3-a544-0461d9c8db6d",
   "metadata": {},
   "outputs": [
    {
     "name": "stdout",
     "output_type": "stream",
     "text": [
      "12.600000000000001\n"
     ]
    }
   ],
   "source": [
    "inputs = [1,2,3,4]\n",
    "weight = [0.4,0.7,0.3,1.9]\n",
    "bias = 2.3\n",
    "\n",
    "x = np.dot(weight,inputs) +bias\n",
    "print(x)"
   ]
  },
  {
   "cell_type": "markdown",
   "id": "cb7d0528-4f66-4f74-bb2a-d2cfcc208362",
   "metadata": {},
   "source": [
    "---\n",
    "##### 1.1.1. ***One Layer***\n",
    "---"
   ]
  },
  {
   "cell_type": "code",
   "execution_count": 52,
   "id": "af453eaf-4531-4005-a7eb-49698d5a7cc0",
   "metadata": {},
   "outputs": [
    {
     "name": "stdout",
     "output_type": "stream",
     "text": [
      "[7.05 5.4  6.95]\n"
     ]
    }
   ],
   "source": [
    "inputs = [1,2, 3, 4.5]\n",
    "weight = [[1.2, 1.5, 0.2, 0.5], \n",
    "          [0.3, 0.6, 0.1, 0.8], \n",
    "          [0.1, 0.5, 1.5, 0.3]]\n",
    "bias = [0.1, 0.4, 0.2]\n",
    "#inputs = np.array(inputs)\n",
    "#weight = np.array(weight)\n",
    "#bias = np.array(bias)\n",
    "outputs = np.dot(weight, inputs)\n",
    "print(outputs)"
   ]
  },
  {
   "cell_type": "code",
   "execution_count": 53,
   "id": "41f031e0-ee73-40da-9e26-28e799d5c124",
   "metadata": {},
   "outputs": [],
   "source": [
    "a = [1,2,3]\n",
    "b = [[1,2,3],\n",
    "    [2,3,4],\n",
    "    [9,7,3]]\n",
    "a = np.array(a)\n",
    "b = np.array(b)\n",
    "#what is the np.dot product of (a,b) and (b, a)?"
   ]
  },
  {
   "cell_type": "code",
   "execution_count": 54,
   "id": "025d6af5-0141-4780-b9a8-39aa1175022c",
   "metadata": {},
   "outputs": [],
   "source": [
    "prod = np.dot(a,b)\n",
    "prod1 = np.dot(b,a)"
   ]
  },
  {
   "cell_type": "code",
   "execution_count": 55,
   "id": "10f885d1-6c7d-488c-ae75-33e91f3fec73",
   "metadata": {},
   "outputs": [
    {
     "name": "stdout",
     "output_type": "stream",
     "text": [
      "[32 29 20]\n",
      "[14 20 32]\n"
     ]
    }
   ],
   "source": [
    "print(prod)\n",
    "print(prod1)"
   ]
  },
  {
   "cell_type": "markdown",
   "id": "d09e2500-13af-4dfb-bb30-3c1da806eb49",
   "metadata": {},
   "source": [
    "---\n",
    "##### **Multiply Matrix and Vector**\n",
    "---\n",
    "- Multiplications are only possible if the row of first matrix is similar with column of the second matrix\n",
    "\n",
    "$ \\begin{pmatrix}\n",
    "a & b & c \\\\\n",
    "d & e & f \\\\\n",
    "g & h & i \\\\\n",
    "\\end{pmatrix}$ $ * $ $\\begin{pmatrix}\n",
    "j \\\\\n",
    "k \\\\\n",
    "l \\\\\n",
    "\\end{pmatrix}$ $\\Rightarrow $ $ j$ * $\\begin{pmatrix} a\\\\d\\\\g\\\\\\end{pmatrix}$ + $k $* $ \\begin{pmatrix} b\\\\e\\\\h\\\\\\end{pmatrix}$ +$l $* $ \\begin{pmatrix} c\\\\f\\\\i\\\\\\end{pmatrix}$\n",
    "---\n",
    "##### **Multiply Vector by Matrix**\n",
    "---\n",
    "$\\begin{equation}\n",
    "  \\begin{bmatrix}\n",
    "    a & b & c \n",
    "  \\end{bmatrix}\n",
    "  *\n",
    "  \\begin{bmatrix}\n",
    "    x & y & z \\\\\n",
    "    w & u & t \\\\\n",
    "    g & i & o \\\\\n",
    "  \\end{bmatrix} \n",
    "\\end{equation}$ $\\Rightarrow $ $\\sum \\begin{bmatrix}\n",
    "    a \\\\\n",
    "    b \\\\\n",
    "    c \\\\\n",
    "  \\end{bmatrix}$$ *  $$\\begin{bmatrix}\n",
    "    y \\\\\n",
    "    u \\\\\n",
    "    i \\\\\n",
    "  \\end{bmatrix}$, $\\ldots$  ,$\\sum \\begin{bmatrix}\n",
    "    a \\\\\n",
    "    b \\\\\n",
    "    c \\\\\n",
    "  \\end{bmatrix}$$ *  $$\\begin{bmatrix}\n",
    "    z \\\\\n",
    "    t \\\\\n",
    "    o \\\\\n",
    "  \\end{bmatrix}$\n",
    "---\n",
    "---"
   ]
  },
  {
   "cell_type": "code",
   "execution_count": null,
   "id": "f13facba-b59e-481d-aed7-35da6fddb095",
   "metadata": {},
   "outputs": [],
   "source": []
  }
 ],
 "metadata": {
  "kernelspec": {
   "display_name": "Python 3 (ipykernel)",
   "language": "python",
   "name": "python3"
  },
  "language_info": {
   "codemirror_mode": {
    "name": "ipython",
    "version": 3
   },
   "file_extension": ".py",
   "mimetype": "text/x-python",
   "name": "python",
   "nbconvert_exporter": "python",
   "pygments_lexer": "ipython3",
   "version": "3.9.12"
  }
 },
 "nbformat": 4,
 "nbformat_minor": 5
}
